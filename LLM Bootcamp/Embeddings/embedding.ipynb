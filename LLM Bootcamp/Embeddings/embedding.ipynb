{
 "cells": [
  {
   "cell_type": "code",
   "execution_count": 1,
   "id": "49466083",
   "metadata": {},
   "outputs": [
    {
     "name": "stderr",
     "output_type": "stream",
     "text": [
      "/Users/sriramlakkaraju/Desktop/github/AI-LLM-Focus/.venv/lib/python3.12/site-packages/tqdm/auto.py:21: TqdmWarning: IProgress not found. Please update jupyter and ipywidgets. See https://ipywidgets.readthedocs.io/en/stable/user_install.html\n",
      "  from .autonotebook import tqdm as notebook_tqdm\n"
     ]
    }
   ],
   "source": [
    "from sentence_transformers import SentenceTransformer, util, InputExample, losses\n",
    "from torch.utils.data import DataLoader\n",
    "import torch\n",
    "import os, datetime"
   ]
  },
  {
   "cell_type": "markdown",
   "id": "727154ab",
   "metadata": {},
   "source": [
    "Define Sentences & Pairs"
   ]
  },
  {
   "cell_type": "code",
   "execution_count": 2,
   "id": "04b2a8ea",
   "metadata": {},
   "outputs": [],
   "source": [
    "SENTENCES = [\n",
    "    \"Book a flight from San Francisco to New York next Monday.\",\n",
    "    \"Reserve a plane ticket from SFO to JFK for Monday.\",\n",
    "    \"I love making pancakes on Sunday mornings.\",\n",
    "    \"Schedule a meeting with the marketing team at 3 PM.\",\n",
    "    \"Set up a 3pm marketing team meeting.\",\n",
    "    \"The quick brown fox jumps over the lazy dog.\"\n",
    "]"
   ]
  },
  {
   "cell_type": "code",
   "execution_count": 3,
   "id": "9cd92fb9",
   "metadata": {},
   "outputs": [],
   "source": [
    "PAIRS_TO_CHECK = [\n",
    "    (0, 1, \"paraphrase\"),\n",
    "    (3, 4, \"paraphrase\"),\n",
    "    (0, 3, \"different tasks\"),\n",
    "    (1, 2, \"unrelated\"),\n",
    "    (2, 5, \"unrelated\")\n",
    "]\n"
   ]
  },
  {
   "cell_type": "markdown",
   "id": "7471b56a",
   "metadata": {},
   "source": [
    "Baseline Embeddings"
   ]
  },
  {
   "cell_type": "code",
   "execution_count": 4,
   "id": "e9f58d3e",
   "metadata": {},
   "outputs": [
    {
     "name": "stdout",
     "output_type": "stream",
     "text": [
      "---- MiniLM Cosine Similarities ----\n",
      "paraphrase    : 0.663\n",
      "paraphrase    : 0.894\n",
      "different tasks: 0.236\n",
      "unrelated     : 0.131\n",
      "unrelated     : 0.048\n"
     ]
    }
   ],
   "source": [
    "model = SentenceTransformer(\"sentence-transformers/all-MiniLM-L6-v2\")\n",
    "embeddings = model.encode(SENTENCES, convert_to_tensor=True, normalize_embeddings=True)\n",
    "\n",
    "sims = util.cos_sim(embeddings, embeddings).cpu().numpy()\n",
    "\n",
    "print(\"---- MiniLM Cosine Similarities ----\")\n",
    "for i, j, desc in PAIRS_TO_CHECK:\n",
    "    print(f\"{desc:14s}: {sims[i,j]:.3f}\")\n"
   ]
  },
  {
   "cell_type": "markdown",
   "id": "31bd3ad8",
   "metadata": {},
   "source": [
    "Matryoshka Embeddings (all sizes)"
   ]
  },
  {
   "cell_type": "code",
   "execution_count": null,
   "id": "f37b6d57",
   "metadata": {},
   "outputs": [],
   "source": [
    "mat_model = SentenceTransformer(\"nomic-ai/nomic-embed-text-v1.5\", trust_remote_code= True)\n",
    "mat_embeddings = mat_model.encode(SENTENCES, convert_to_tensor=True, normalize_embeddings=True)\n",
    "\n",
    "dims_to_test = [128, 256, 512, 768]\n",
    "\n",
    "for d in dims_to_test:\n",
    "    emb_d = mat_embeddings[:, :d]\n",
    "    emb_d = emb_d / emb_d.norm(dim=1, keepdim=True)  # re-normalize\n",
    "    sims_d = util.cos_sim(emb_d, emb_d).cpu().numpy()\n",
    "    print(f\"\\n---- Matryoshka similarities at {d}d ----\")\n",
    "    for i, j, desc in PAIRS_TO_CHECK:\n",
    "        print(f\"{desc:14s}: {sims_d[i,j]:.3f}\")\n"
   ]
  },
  {
   "cell_type": "markdown",
   "id": "9bd33904",
   "metadata": {},
   "source": [
    "Fine-tuning with Matryoshka Losses"
   ]
  },
  {
   "cell_type": "code",
   "execution_count": 11,
   "id": "d753d976",
   "metadata": {},
   "outputs": [],
   "source": [
    "positive_pairs = [\n",
    "    (\"Book a flight from San Francisco to New York next Monday.\",\n",
    "     \"Reserve a plane ticket from SFO to JFK for Monday.\"),\n",
    "    (\"Schedule a meeting with the marketing team at 3 PM.\",\n",
    "     \"Set up a 3pm marketing team meeting.\"),\n",
    "    (\"Buy tickets to NYC next Monday from SFO.\",\n",
    "     \"Reserve a plane ticket from SFO to JFK for Monday.\")\n",
    "]\n"
   ]
  },
  {
   "cell_type": "code",
   "execution_count": 13,
   "id": "284ed707",
   "metadata": {},
   "outputs": [],
   "source": [
    "train_samples = [InputExample(texts=[a, b]) for a, b in positive_pairs]\n",
    "train_dataloader = DataLoader(train_samples, shuffle=True, batch_size=16)\n",
    "\n",
    "base_model = SentenceTransformer(\"sentence-transformers/all-MiniLM-L6-v2\")\n",
    "\n",
    "# Matryoshka-aware fine-tuning\n",
    "m_dims = [128, 256, 384]\n",
    "train_loss = losses.MatryoshkaLoss(\n",
    "    model=base_model,\n",
    "    loss=losses.MultipleNegativesRankingLoss(base_model),\n",
    "    matryoshka_dims=m_dims\n",
    ")"
   ]
  },
  {
   "cell_type": "code",
   "execution_count": 14,
   "id": "249e8dbc",
   "metadata": {},
   "outputs": [
    {
     "name": "stderr",
     "output_type": "stream",
     "text": [
      "                                                                     \r"
     ]
    },
    {
     "data": {
      "text/html": [
       "\n",
       "    <div>\n",
       "      \n",
       "      <progress value='2' max='2' style='width:300px; height:20px; vertical-align: middle;'></progress>\n",
       "      [2/2 00:00, Epoch 2/2]\n",
       "    </div>\n",
       "    <table border=\"1\" class=\"dataframe\">\n",
       "  <thead>\n",
       " <tr style=\"text-align: left;\">\n",
       "      <th>Step</th>\n",
       "      <th>Training Loss</th>\n",
       "    </tr>\n",
       "  </thead>\n",
       "  <tbody>\n",
       "  </tbody>\n",
       "</table><p>"
      ],
      "text/plain": [
       "<IPython.core.display.HTML object>"
      ]
     },
     "metadata": {},
     "output_type": "display_data"
    }
   ],
   "source": [
    "output_dir = os.path.join(\"output\", \"finetuned-\" + datetime.datetime.now().strftime(\"%Y%m%d-%H%M%S\"))\n",
    "\n",
    "base_model.fit(\n",
    "    train_objectives=[(train_dataloader, train_loss)],\n",
    "    epochs=2,\n",
    "    warmup_steps=0,\n",
    "    optimizer_params={\"lr\": 2e-5},\n",
    "    output_path=output_dir,\n",
    "    show_progress_bar=True,\n",
    ")"
   ]
  },
  {
   "cell_type": "markdown",
   "id": "fa1cac32",
   "metadata": {},
   "source": [
    "Compare before and after fine-tuning"
   ]
  },
  {
   "cell_type": "code",
   "execution_count": 15,
   "id": "846f5b54",
   "metadata": {},
   "outputs": [
    {
     "name": "stdout",
     "output_type": "stream",
     "text": [
      "=== Before fine-tuning ===\n",
      "paraphrase    : 0.663\n",
      "paraphrase    : 0.894\n",
      "different tasks: 0.236\n",
      "unrelated     : 0.131\n",
      "unrelated     : 0.048\n",
      "\n",
      "=== After fine-tuning (full dim) ===\n",
      "paraphrase    : 0.663\n",
      "paraphrase    : 0.894\n",
      "different tasks: 0.236\n",
      "unrelated     : 0.131\n",
      "unrelated     : 0.048\n"
     ]
    }
   ],
   "source": [
    "tuned = SentenceTransformer(output_dir)\n",
    "\n",
    "emb_before = model.encode(SENTENCES, convert_to_tensor=True, normalize_embeddings=True)\n",
    "sims_before = util.cos_sim(emb_before, emb_before).cpu().numpy()\n",
    "\n",
    "emb_after = tuned.encode(SENTENCES, convert_to_tensor=True, normalize_embeddings=True)\n",
    "sims_after = util.cos_sim(emb_after, emb_after).cpu().numpy()\n",
    "\n",
    "print(\"=== Before fine-tuning ===\")\n",
    "for i, j, desc in PAIRS_TO_CHECK:\n",
    "    print(f\"{desc:14s}: {sims_before[i,j]:.3f}\")\n",
    "\n",
    "print(\"\\n=== After fine-tuning (full dim) ===\")\n",
    "for i, j, desc in PAIRS_TO_CHECK:\n",
    "    print(f\"{desc:14s}: {sims_after[i,j]:.3f}\")\n"
   ]
  },
  {
   "cell_type": "markdown",
   "id": "3f883d7b",
   "metadata": {},
   "source": [
    "Verify Matryoshka behavior after fine-tuning"
   ]
  },
  {
   "cell_type": "code",
   "execution_count": 17,
   "id": "7c9befaf",
   "metadata": {},
   "outputs": [
    {
     "name": "stdout",
     "output_type": "stream",
     "text": [
      "\n",
      "=== After fine-tuning (Matryoshka 32d) ===\n",
      "paraphrase    : 0.633\n",
      "paraphrase    : 0.912\n",
      "different tasks: 0.005\n",
      "unrelated     : 0.230\n",
      "unrelated     : 0.128\n",
      "\n",
      "=== After fine-tuning (Matryoshka 64d) ===\n",
      "paraphrase    : 0.690\n",
      "paraphrase    : 0.916\n",
      "different tasks: 0.214\n",
      "unrelated     : 0.102\n",
      "unrelated     : 0.117\n",
      "\n",
      "=== After fine-tuning (Matryoshka 128d) ===\n",
      "paraphrase    : 0.727\n",
      "paraphrase    : 0.916\n",
      "different tasks: 0.200\n",
      "unrelated     : 0.152\n",
      "unrelated     : 0.074\n",
      "\n",
      "=== After fine-tuning (Matryoshka 256d) ===\n",
      "paraphrase    : 0.692\n",
      "paraphrase    : 0.902\n",
      "different tasks: 0.237\n",
      "unrelated     : 0.121\n",
      "unrelated     : 0.029\n",
      "\n",
      "=== After fine-tuning (Matryoshka 384d) ===\n",
      "paraphrase    : 0.663\n",
      "paraphrase    : 0.894\n",
      "different tasks: 0.236\n",
      "unrelated     : 0.131\n",
      "unrelated     : 0.048\n"
     ]
    }
   ],
   "source": [
    "emb_after_full = tuned.encode(SENTENCES, convert_to_tensor=True, normalize_embeddings=True)\n",
    "\n",
    "for d in [32, 64, 128, 256, 384]:\n",
    "    e = emb_after_full[:, :d]\n",
    "    e = e / e.norm(dim=1, keepdim=True)\n",
    "    sims_d = util.cos_sim(e, e).cpu().numpy()\n",
    "    print(f\"\\n=== After fine-tuning (Matryoshka {d}d) ===\")\n",
    "    for i, j, desc in PAIRS_TO_CHECK:\n",
    "        print(f\"{desc:14s}: {sims_d[i,j]:.3f}\")\n"
   ]
  }
 ],
 "metadata": {
  "kernelspec": {
   "display_name": ".venv",
   "language": "python",
   "name": "python3"
  },
  "language_info": {
   "codemirror_mode": {
    "name": "ipython",
    "version": 3
   },
   "file_extension": ".py",
   "mimetype": "text/x-python",
   "name": "python",
   "nbconvert_exporter": "python",
   "pygments_lexer": "ipython3",
   "version": "3.12.11"
  }
 },
 "nbformat": 4,
 "nbformat_minor": 5
}
