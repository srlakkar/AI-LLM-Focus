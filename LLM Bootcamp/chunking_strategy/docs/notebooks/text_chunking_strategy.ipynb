{
 "cells": [
  {
   "cell_type": "markdown",
   "metadata": {},
   "source": [
    "<center>\n",
    "<img src=\"https://supportvectors.ai/logo-poster-transparent.png\" width=\"400px\" style=\"opacity:0.7\">\n",
    "</center>"
   ]
  },
  {
   "cell_type": "code",
   "execution_count": 1,
   "metadata": {},
   "outputs": [
    {
     "data": {
      "text/html": [
       "\n",
       "<!-- Many of the styles here are inspired by: \n",
       "    https://towardsdatascience.com/10-practical-tips-you-need-to-know-to-personalize-jupyter-notebook-fbd202777e20 \n",
       "\n",
       "\n",
       "    On the author's local machine, these exist in the custom.css file. However, in order to keep uniform look and feel, \n",
       "    and at the request of participants, I have added it to this common import-file here.\n",
       "\n",
       "    -->\n",
       "\n",
       "<link href=\"https://fonts.googleapis.com/css?family=Lora:400,700|Montserrat:300\" rel=\"stylesheet\">\n",
       "\n",
       "<link href=\"https://fonts.googleapis.com/css2?family=Crimson+Pro&family=Literata&display=swap\" rel=\"stylesheet\">\n",
       "<style>\n",
       "\n",
       "\n",
       "#ipython_notebook::before{\n",
       " content:\"Neural Architectures\";\n",
       "        color: white;\n",
       "        font-weight: bold;\n",
       "        text-transform: uppercase;\n",
       "        font-family: 'Lora',serif;\n",
       "        font-size:16pt;\n",
       "        margin-bottom:15px;\n",
       "        margin-top:15px;\n",
       "\n",
       "}\n",
       "body > #header {\n",
       "    #background: #D15555;\n",
       "    background: linear-gradient(to bottom, indianred 0%, #fff 100%);\n",
       "    opacity: 0.8;\n",
       "\n",
       "}\n",
       "\n",
       "\n",
       ".navbar-default .navbar-nav > li > a, #kernel_indicator {\n",
       "    color: white;\n",
       "    transition: all 0.25s;\n",
       "    font-size:10pt;\n",
       "    font-family: sans-serif;\n",
       "    font-weight:normal;\n",
       "}\n",
       ".navbar-default {\n",
       "    padding-left:100px;\n",
       "    background: none;\n",
       "    border: none;\n",
       "}\n",
       "\n",
       "\n",
       "body > menubar-container {\n",
       "    background-color: wheat;\n",
       "}\n",
       "#ipython_notebook img{                                                                                        \n",
       "    display:block; \n",
       "\n",
       "    background: url(\"https://www.supportvectors.com/wp-content/uploads/2016/03/logo-poster-smaller.png\") no-repeat;\n",
       "    background-size: contain;\n",
       "\n",
       "    padding-left: 600px;\n",
       "    padding-right: 100px;\n",
       "\n",
       "    -moz-box-sizing: border-box;\n",
       "    box-sizing: border-box;\n",
       "}\n",
       "\n",
       "\n",
       "\n",
       "body {\n",
       " #font-family:  'Literata', serif;\n",
       "    font-family:'Lora', san-serif;\n",
       "    text-align: justify;\n",
       "    font-weight: 400;\n",
       "    font-size: 12pt;\n",
       "}\n",
       "\n",
       "iframe{\n",
       "    width:100%;\n",
       "    min-height:600px;\n",
       "}\n",
       "\n",
       "h1, h2, h3, h4, h5, h6 {\n",
       "# font-family: 'Montserrat', sans-serif;\n",
       " font-family:'Lora', serif;\n",
       " font-weight: 200;\n",
       " text-transform: uppercase;\n",
       " color: #EC7063 ;\n",
       "}\n",
       "\n",
       "h2 {\n",
       "    color: #000080;\n",
       "}\n",
       "\n",
       ".checkpoint_status, .autosave_status {\n",
       "    color:wheat;\n",
       "}\n",
       "\n",
       "#notebook_name {\n",
       "    font-weight: 600;\n",
       "    font-size:20pt;\n",
       "    text-variant:uppercase;\n",
       "    color: wheat; \n",
       "    margin-right:20px;\n",
       "    margin-left:-500px;\n",
       "}\n",
       "#notebook_name:hover {\n",
       "background-color: salmon;\n",
       "}\n",
       "\n",
       "\n",
       ".dataframe { /* dataframe atau table */\n",
       "    background: white;\n",
       "    box-shadow: 0px 1px 2px #bbb;\n",
       "}\n",
       ".dataframe thead th, .dataframe tbody td {\n",
       "    text-align: center;\n",
       "    padding: 1em;\n",
       "}\n",
       "\n",
       ".checkpoint_status, .autosave_status {\n",
       "    color:wheat;\n",
       "}\n",
       "\n",
       ".output {\n",
       "    align-items: center;\n",
       "}\n",
       "\n",
       "div.cell {\n",
       "    transition: all 0.25s;\n",
       "    border: none;\n",
       "    position: relative;\n",
       "    top: 0;\n",
       "}\n",
       "div.cell.selected, div.cell.selected.jupyter-soft-selected {\n",
       "    border: none;\n",
       "    background: transparent;\n",
       "    box-shadow: 0 6px 18px #aaa;\n",
       "    z-index: 10;\n",
       "    top: -10px;\n",
       "}\n",
       ".CodeMirror pre, .CodeMirror-dialog, .CodeMirror-dialog .CodeMirror-search-field, .terminal-app .terminal {\n",
       "    font-family: 'Hack' , serif; \n",
       "    font-weight: 500;\n",
       "    font-size: 14pt;\n",
       "}\n",
       "\n",
       "\n",
       "\n",
       "</style>    \n"
      ],
      "text/plain": [
       "<IPython.core.display.HTML object>"
      ]
     },
     "metadata": {},
     "output_type": "display_data"
    },
    {
     "data": {
      "text/markdown": [
       "\n",
       "<div style=\"color:#aaa;font-size:8pt\">\n",
       "<hr/>\n",
       "&copy; SupportVectors. All rights reserved. <blockquote>This notebook is the intellectual property of SupportVectors, and part of its training material. \n",
       "Only the participants in SupportVectors workshops are allowed to study the notebooks for educational purposes currently, but is prohibited from copying or using it for any other purposes without written permission.\n",
       "\n",
       "<b> These notebooks are chapters and sections from Asif Qamar's textbook that he is writing on Data Science. So we request you to not circulate the material to others.</b>\n",
       " </blockquote>\n",
       " <hr/>\n",
       "</div>\n",
       "\n"
      ],
      "text/plain": [
       "<IPython.core.display.Markdown object>"
      ]
     },
     "metadata": {},
     "output_type": "display_data"
    }
   ],
   "source": [
    "%run supportvectors-common.ipynb"
   ]
  },
  {
   "cell_type": "markdown",
   "metadata": {},
   "source": [
    "#### ***The following notebook is adapted from the following resources:***\n",
    "\n",
    "**1. [https://python.langchain.com/docs/concepts/text_splitters/](https://python.langchain.com/docs/concepts/text_splitters/)**\n",
    "\n",
    "**2. [https://www.youtube.com/watch?v=8OJC21T2SL4&t=1933s](https://www.youtube.com/watch?v=8OJC21T2SL4&t=1933s)**\n",
    "\n",
    "#### ***And Pros/Cons are adapted from following resource:***\n",
    "\n",
    "**3. [https://www.f22labs.com/blogs/7-chunking-strategies-in-rag-you-need-to-know/](https://www.f22labs.com/blogs/7-chunking-strategies-in-rag-you-need-to-know/)**"
   ]
  },
  {
   "cell_type": "markdown",
   "metadata": {},
   "source": [
    "# **Text Chunking Strategies**\n",
    "\n",
    "Document splitting or Text chunking is a critical preprocessing step in machine learning and NLP tasks. It involves breaking down large text documents into smaller, manageable pieces (chunks) for downstream tasks."
   ]
  },
  {
   "cell_type": "markdown",
   "metadata": {},
   "source": [
    "## **Why split documents?**\n",
    "\n",
    "**Ensuring Consistent Processing:** Documents in real-world datasets rarely follow a uniform length. Some may be a few sentences long, while others span multiple pages. Splitting them into manageable chunks ensures that all documents are processed consistently, regardless of their original size.  \n",
    "\n",
    "**Working Within Model Constraints:** Most language models and embedding models have a limit on the number of tokens they can process at once. If a document exceeds this limit, it needs to be truncated or split. Chunking prevents information loss by allowing long documents to be processed in full, section by section.  \n",
    "\n",
    "**Improving Representation and Understanding:** When dealing with long texts, embeddings and model representations may become diluted, struggling to capture key details effectively. By breaking a document into smaller segments, each part can retain a clearer and more focused representation, leading to better downstream performance in tasks like retrieval and summarization.  \n",
    "\n",
    "**Enhancing Search and Retrieval Accuracy:** In search systems, retrieving an entire document in response to a query isn’t always helpful. Instead, chunking allows for more precise matching, so that users get results at a finer granularity—directly pointing them to the most relevant passage rather than the whole document.  \n",
    "\n",
    "**Optimizing Memory and Computation:** Processing large texts as a whole can be computationally expensive and memory-intensive. Splitting them into smaller chunks enables better parallelization, reduces memory overhead, and speeds up processing, making it more efficient for both training and inference.  \n",
    "\n",
    "Chunking is essential for maintaining both accuracy and efficiency when working with textual data. It not only ensures smooth processing but also enhances the quality of results in applications like search engines, chatbots, and summarization systems.  \n"
   ]
  },
  {
   "cell_type": "code",
   "execution_count": 2,
   "metadata": {},
   "outputs": [],
   "source": [
    "# To be used for chunking strategies\n",
    "\n",
    "document = \"\"\"The American Revolution (1765–1783) was an ideological and political movement in the Thirteen Colonies which peaked when colonists initiated the ultimately successful war for independence (the American Revolutionary War) against the Kingdom of Great Britain. Leaders of the American Revolution were colonial separatist leaders who originally sought more autonomy as British subjects, but later assembled to support the Revolutionary War, which ended British colonial rule over the colonies, establishing their independence as the United States of America in July 1776.\n",
    "\n",
    "Discontent with colonial rule began shortly after the defeat of France in the French and Indian War in 1763. Although the colonies had fought and supported the war, Parliament imposed new taxes to compensate for wartime costs and turned control of the colonies' western lands over to the British officials in Montreal. Representatives from several colonies convened the Stamp Act Congress; its \"Declaration of Rights and Grievances\" argued that taxation without representation violated their rights as Englishmen. In 1767, tensions flared again following the British Parliament's passage of the Townshend Acts. In an effort to quell the mounting rebellion, King George III deployed troops to Boston. A local confrontation resulted in the troops killing protesters in the Boston Massacre on March 5, 1770. In 1772, anti-tax demonstrators in Rhode Island destroyed the Royal Navy customs schooner Gaspee. On December 16, 1773, activists disguised as Indians instigated the Boston Tea Party and dumped chests of tea owned by the British East India Company into Boston Harbor. London closed Boston Harbor and enacted a series of punitive laws, which effectively ended self-government in Massachusetts.\n",
    "\n",
    "In late 1774, 12 of the Thirteen Colonies (Georgia joined in 1775) sent delegates to the First Continental Congress in Philadelphia. It began coordinating Patriot resistance through underground networks of committees. In April 1775, British forces attempted to disarm local militias around Boston and engaged them. On June 14, 1775, the Second Continental Congress responded by authorizing formation of the Continental Army and appointing George Washington as its commander-in-chief. In August, the king proclaimed Massachusetts to be in a state of open defiance and rebellion. The Continental Army surrounded Boston, and the British withdrew by sea in March 1776, leaving the Patriots in control in every colony. In July 1776, the Second Continental Congress began to take on the role of governing a new nation. It passed the Lee Resolution for national independence on July 2, and on July 4, 1776, unanimously adopted the Declaration of Independence, which embodied the political philosophies of liberalism and republicanism, rejected monarchy and aristocracy, and famously proclaimed that \"all men are created equal\".\n",
    "\n",
    "The fighting, now known as the Revolutionary War, continued for five years. During this time, the kingdom of France entered as an ally of the United States. The decisive victory came in the fall of 1781, when the combined American and French armies captured an entire British army in the Siege of Yorktown. The defeat led to the collapse of King George's control of Parliament, with a majority now in favor of ending the war on American terms. On September 3, 1783, the British signed the Treaty of Paris, granting the United States nearly all the territory east of the Mississippi River and south of the Great Lakes. About 60,000 Loyalists migrated to other British territories in Canada and elsewhere, but the great majority remained in the United States. With its victory in the American Revolution, the United States became the first constitutional republic in world history founded on the consent of the governed and the rule of law.\n",
    "\"\"\""
   ]
  },
  {
   "cell_type": "markdown",
   "metadata": {},
   "source": [
    "## **Different Approaches for Text Chunking**"
   ]
  },
  {
   "cell_type": "markdown",
   "metadata": {},
   "source": [
    "### **1. Length-based Chunking or Fixed-Size (Character) Chunking**\n",
    "\n",
    "This is the most intuitive strategy of segmenting the document into consistent chunks of a fixed number of characters, regardless of the content or structure of the document, which can be more consistent across different types of text."
   ]
  },
  {
   "cell_type": "code",
   "execution_count": 3,
   "metadata": {},
   "outputs": [],
   "source": [
    "from langchain.text_splitter import CharacterTextSplitter\n",
    "\n",
    "# Initialize the CharacterTextSplitter\n",
    "text_splitter = CharacterTextSplitter(\n",
    "    separator=\" \",        # Define the separator to split on (e.g., newline, space etc.)\n",
    "    chunk_size=300,       # Maximum size of each chunk\n",
    "    chunk_overlap=0       # Number of overlapping characters between chunks\n",
    ")"
   ]
  },
  {
   "cell_type": "code",
   "execution_count": 4,
   "metadata": {},
   "outputs": [
    {
     "data": {
      "text/plain": [
       "[Document(metadata={}, page_content='The American Revolution (1765–1783) was an ideological and political movement in the Thirteen Colonies which peaked when colonists initiated the ultimately successful war for independence (the American Revolutionary War) against the Kingdom of Great Britain. Leaders of the American Revolution were'),\n",
       " Document(metadata={}, page_content='colonial separatist leaders who originally sought more autonomy as British subjects, but later assembled to support the Revolutionary War, which ended British colonial rule over the colonies, establishing their independence as the United States of America in July 1776.\\n\\nDiscontent with colonial rule'),\n",
       " Document(metadata={}, page_content=\"began shortly after the defeat of France in the French and Indian War in 1763. Although the colonies had fought and supported the war, Parliament imposed new taxes to compensate for wartime costs and turned control of the colonies' western lands over to the British officials in Montreal.\"),\n",
       " Document(metadata={}, page_content='Representatives from several colonies convened the Stamp Act Congress; its \"Declaration of Rights and Grievances\" argued that taxation without representation violated their rights as Englishmen. In 1767, tensions flared again following the British Parliament\\'s passage of the Townshend Acts. In an'),\n",
       " Document(metadata={}, page_content='effort to quell the mounting rebellion, King George III deployed troops to Boston. A local confrontation resulted in the troops killing protesters in the Boston Massacre on March 5, 1770. In 1772, anti-tax demonstrators in Rhode Island destroyed the Royal Navy customs schooner Gaspee. On December'),\n",
       " Document(metadata={}, page_content='16, 1773, activists disguised as Indians instigated the Boston Tea Party and dumped chests of tea owned by the British East India Company into Boston Harbor. London closed Boston Harbor and enacted a series of punitive laws, which effectively ended self-government in Massachusetts.\\n\\nIn late 1774, 12'),\n",
       " Document(metadata={}, page_content='of the Thirteen Colonies (Georgia joined in 1775) sent delegates to the First Continental Congress in Philadelphia. It began coordinating Patriot resistance through underground networks of committees. In April 1775, British forces attempted to disarm local militias around Boston and engaged them. On'),\n",
       " Document(metadata={}, page_content='June 14, 1775, the Second Continental Congress responded by authorizing formation of the Continental Army and appointing George Washington as its commander-in-chief. In August, the king proclaimed Massachusetts to be in a state of open defiance and rebellion. The Continental Army surrounded Boston,'),\n",
       " Document(metadata={}, page_content='and the British withdrew by sea in March 1776, leaving the Patriots in control in every colony. In July 1776, the Second Continental Congress began to take on the role of governing a new nation. It passed the Lee Resolution for national independence on July 2, and on July 4, 1776, unanimously'),\n",
       " Document(metadata={}, page_content='adopted the Declaration of Independence, which embodied the political philosophies of liberalism and republicanism, rejected monarchy and aristocracy, and famously proclaimed that \"all men are created equal\".\\n\\nThe fighting, now known as the Revolutionary War, continued for five years. During this'),\n",
       " Document(metadata={}, page_content=\"time, the kingdom of France entered as an ally of the United States. The decisive victory came in the fall of 1781, when the combined American and French armies captured an entire British army in the Siege of Yorktown. The defeat led to the collapse of King George's control of Parliament, with a\"),\n",
       " Document(metadata={}, page_content='majority now in favor of ending the war on American terms. On September 3, 1783, the British signed the Treaty of Paris, granting the United States nearly all the territory east of the Mississippi River and south of the Great Lakes. About 60,000 Loyalists migrated to other British territories in'),\n",
       " Document(metadata={}, page_content='Canada and elsewhere, but the great majority remained in the United States. With its victory in the American Revolution, the United States became the first constitutional republic in world history founded on the consent of the governed and the rule of law.')]"
      ]
     },
     "execution_count": 4,
     "metadata": {},
     "output_type": "execute_result"
    }
   ],
   "source": [
    "text_splitter.create_documents([document])"
   ]
  },
  {
   "cell_type": "markdown",
   "metadata": {},
   "source": [
    "#### **Pros:**  \n",
    "- **Straightforward Implementation** – Simple to apply without requiring complex logic.  \n",
    "- **High Speed** – Works efficiently, even with large datasets, enabling quick processing.  \n",
    "- **Uniformity** – Ensures consistent chunk sizes across all documents.  \n",
    "- **Minimal Resource Usage** – Doesn't rely on advanced models or heavy computation.  \n",
    "\n",
    "#### **Cons:**  \n",
    "- **Context fragmentation** – May break sentences or disrupt the logical flow of information.  \n",
    "- **Lack of Adaptability** – Doesn’t adjust to content structure or varying information density.  \n",
    "- **Risk of Splitting Key Information** – Critical details might get divided between chunks, making interpretation harder.  \n",
    "- **Less Effective for heterogeneous content** – Works best for uniformly structured texts but struggles with highly diverse document layouts.  \n"
   ]
  },
  {
   "cell_type": "markdown",
   "metadata": {},
   "source": [
    "### **2. Text-structured based Chunking or Recursive Chunking**\n",
    "\n",
    "Text is naturally organized into hierarchical units such as paragraphs, sentences, and words. We can leverage this inherent structure to inform our splitting strategy, creating split that maintain natural language flow, maintain semantic coherence within split, and adapts to varying levels of text granularity.\n",
    "\n",
    "LangChain's **RecursiveCharacterTextSplitter** implements this concept:\n",
    "\n",
    "1. The RecursiveCharacterTextSplitter attempts to keep larger units (e.g., paragraphs) intact.\n",
    "2. If a unit exceeds the chunk size, it moves to the next level (e.g., sentences).\n",
    "3. This process continues down to the word level if necessary."
   ]
  },
  {
   "cell_type": "code",
   "execution_count": 5,
   "metadata": {},
   "outputs": [],
   "source": [
    "from langchain.text_splitter import RecursiveCharacterTextSplitter, Language\n",
    "\n",
    "recursive_text_splitter = RecursiveCharacterTextSplitter(chunk_size=300, chunk_overlap=0)"
   ]
  },
  {
   "cell_type": "code",
   "execution_count": 6,
   "metadata": {},
   "outputs": [
    {
     "data": {
      "text/plain": [
       "[Document(metadata={}, page_content='The American Revolution (1765–1783) was an ideological and political movement in the Thirteen Colonies which peaked when colonists initiated the ultimately successful war for independence (the American Revolutionary War) against the Kingdom of Great Britain. Leaders of the American Revolution were'),\n",
       " Document(metadata={}, page_content='colonial separatist leaders who originally sought more autonomy as British subjects, but later assembled to support the Revolutionary War, which ended British colonial rule over the colonies, establishing their independence as the United States of America in July 1776.'),\n",
       " Document(metadata={}, page_content=\"Discontent with colonial rule began shortly after the defeat of France in the French and Indian War in 1763. Although the colonies had fought and supported the war, Parliament imposed new taxes to compensate for wartime costs and turned control of the colonies' western lands over to the British\"),\n",
       " Document(metadata={}, page_content='officials in Montreal. Representatives from several colonies convened the Stamp Act Congress; its \"Declaration of Rights and Grievances\" argued that taxation without representation violated their rights as Englishmen. In 1767, tensions flared again following the British Parliament\\'s passage of the'),\n",
       " Document(metadata={}, page_content='Townshend Acts. In an effort to quell the mounting rebellion, King George III deployed troops to Boston. A local confrontation resulted in the troops killing protesters in the Boston Massacre on March 5, 1770. In 1772, anti-tax demonstrators in Rhode Island destroyed the Royal Navy customs schooner'),\n",
       " Document(metadata={}, page_content='Gaspee. On December 16, 1773, activists disguised as Indians instigated the Boston Tea Party and dumped chests of tea owned by the British East India Company into Boston Harbor. London closed Boston Harbor and enacted a series of punitive laws, which effectively ended self-government in'),\n",
       " Document(metadata={}, page_content='Massachusetts.'),\n",
       " Document(metadata={}, page_content='In late 1774, 12 of the Thirteen Colonies (Georgia joined in 1775) sent delegates to the First Continental Congress in Philadelphia. It began coordinating Patriot resistance through underground networks of committees. In April 1775, British forces attempted to disarm local militias around Boston'),\n",
       " Document(metadata={}, page_content='and engaged them. On June 14, 1775, the Second Continental Congress responded by authorizing formation of the Continental Army and appointing George Washington as its commander-in-chief. In August, the king proclaimed Massachusetts to be in a state of open defiance and rebellion. The Continental'),\n",
       " Document(metadata={}, page_content='Army surrounded Boston, and the British withdrew by sea in March 1776, leaving the Patriots in control in every colony. In July 1776, the Second Continental Congress began to take on the role of governing a new nation. It passed the Lee Resolution for national independence on July 2, and on July 4,'),\n",
       " Document(metadata={}, page_content='1776, unanimously adopted the Declaration of Independence, which embodied the political philosophies of liberalism and republicanism, rejected monarchy and aristocracy, and famously proclaimed that \"all men are created equal\".'),\n",
       " Document(metadata={}, page_content='The fighting, now known as the Revolutionary War, continued for five years. During this time, the kingdom of France entered as an ally of the United States. The decisive victory came in the fall of 1781, when the combined American and French armies captured an entire British army in the Siege of'),\n",
       " Document(metadata={}, page_content=\"Yorktown. The defeat led to the collapse of King George's control of Parliament, with a majority now in favor of ending the war on American terms. On September 3, 1783, the British signed the Treaty of Paris, granting the United States nearly all the territory east of the Mississippi River and\"),\n",
       " Document(metadata={}, page_content='south of the Great Lakes. About 60,000 Loyalists migrated to other British territories in Canada and elsewhere, but the great majority remained in the United States. With its victory in the American Revolution, the United States became the first constitutional republic in world history founded on'),\n",
       " Document(metadata={}, page_content='the consent of the governed and the rule of law.')]"
      ]
     },
     "execution_count": 6,
     "metadata": {},
     "output_type": "execute_result"
    }
   ],
   "source": [
    "recursive_text_splitter.create_documents([document])"
   ]
  },
  {
   "cell_type": "markdown",
   "metadata": {},
   "source": [
    "#### **Pros:**  \n",
    "- **Maintains Logical Structure** – Splits content at natural breakpoints like paragraphs or sections, keeping context intact.  \n",
    "- **Highly Adaptable** – Supports various content types, including text and code, by using multiple splitting criteria.  \n",
    "- **Precise Customization** – Allows fine control over chunk size and overlap to balance readability and completeness.  \n",
    "- **Effective for Complex Documents** – Well-suited for structured formats like technical manuals, research papers, and programming code.  \n",
    "\n",
    "#### **Cons:**  \n",
    "- **More Complex Implementation** – Requires careful setup compared to simple, fixed-size chunking.  \n",
    "- **Increased Processing Load** – Recursive splitting and multiple checks can slow down handling of large texts.  \n",
    "- **Relies on Clear Dividers** – Works best when documents have well-defined separators; otherwise, chunks may be inconsistent.  \n",
    "- **Less Efficient for Massive Datasets** – Can be slower than basic chunking approaches when dealing with high volumes of data."
   ]
  },
  {
   "cell_type": "markdown",
   "metadata": {},
   "source": [
    "#### ***An enhancement for Python Code Chunking:***"
   ]
  },
  {
   "cell_type": "code",
   "execution_count": 7,
   "metadata": {},
   "outputs": [],
   "source": [
    "PYTHON_CODE = \"\"\"\n",
    "def hello_world():\n",
    "    print(\"Hello, World!\")\n",
    "\n",
    "# Call the function\n",
    "hello_world()\n",
    "\"\"\"\n",
    "python_splitter = RecursiveCharacterTextSplitter.from_language(\n",
    "    language=Language.PYTHON,       # Change language here to appropriate one\n",
    "    chunk_size=50, \n",
    "    chunk_overlap=0\n",
    ")"
   ]
  },
  {
   "cell_type": "code",
   "execution_count": 8,
   "metadata": {},
   "outputs": [
    {
     "data": {
      "text/plain": [
       "[Document(metadata={}, page_content='def hello_world():\\n    print(\"Hello, World!\")'),\n",
       " Document(metadata={}, page_content='# Call the function\\nhello_world()')]"
      ]
     },
     "execution_count": 8,
     "metadata": {},
     "output_type": "execute_result"
    }
   ],
   "source": [
    "python_splitter.create_documents([PYTHON_CODE])"
   ]
  },
  {
   "cell_type": "markdown",
   "metadata": {},
   "source": [
    "### **3. Document-Structure Based Chunking**\n",
    "\n",
    "Some documents have an inherent structure, such as HTML, Markdown, or JSON files. In these cases, it's beneficial to split the document based on its structure, as it often naturally groups semantically related text.\n",
    "\n",
    "***Few Examples of structure-based splitting:***\n",
    "\n",
    "- **Markdown**: Split based on headers (e.g., #, ##, ###)\n",
    "- **HTML**: Split using tags\n",
    "- **JSON**: Split by object or array elements\n",
    "- **Code**: Split by functions, classes, or logical blocks\n",
    "\n",
    "#### ***We will see the Markdown document splitter from LangChain with example.***"
   ]
  },
  {
   "cell_type": "markdown",
   "metadata": {},
   "source": [
    "#### **MarkdownTextSplitter**\n",
    "\n",
    "You can view the separators used here like Spaces, Double New Lines, Newlines etc. [**here**](https://github.com/langchain-ai/langchain/blob/9ef2feb6747f5a69d186bd623b569ad722829a5e/libs/langchain/langchain/text_splitter.py#L1175)"
   ]
  },
  {
   "cell_type": "code",
   "execution_count": 9,
   "metadata": {},
   "outputs": [],
   "source": [
    "markdown_text = \"\"\"\n",
    "# Heading-1\n",
    "This is some intro to heading\n",
    "\n",
    "## Sub-heading-1\n",
    "Machine learning is a branch of artificial intelligence that enables systems to learn and make decisions without being explicitly programmed. It involves the use of algorithms and statistical models to identify patterns in data. Common \n",
    "applications include image recognition, natural language processing, and predictive analytics.\n",
    "\n",
    "World War II was a global conflict that lasted from 1939 to 1945. It involved most of the world's nations and was marked by significant events such as the Holocaust, the atomic bombings of Hiroshima and Nagasaki, and the D-Day invasion.\n",
    "The war ended with the Allied victory and the establishment of the United Nations.\n",
    "Hi this is Joe\n",
    "\n",
    "## Sub-heading-2\n",
    "Climate change refers to long-term changes in temperature, precipitation, and other atmospheric conditions on Earth. It is primarily driven by human activities, such as burning fossil fuels and deforestation. The effects of climate change include \n",
    "rising sea levels, extreme weather events, and loss of biodiversity.\n",
    "\n",
    "# Heading-2\n",
    "Python is a high-level, interpreted programming language known for its readability and simplicity. It supports multiple programming paradigms, including procedural, object-oriented, and functional programming. Popular libraries include NumPy, \n",
    "pandas, and TensorFlow, making Python widely used in data science and machine learning.\n",
    "\n",
    "\"\"\""
   ]
  },
  {
   "cell_type": "code",
   "execution_count": 10,
   "metadata": {},
   "outputs": [
    {
     "data": {
      "text/plain": [
       "[Document(metadata={}, page_content='# Heading-1\\nThis is some intro to heading'),\n",
       " Document(metadata={}, page_content='## Sub-heading-1'),\n",
       " Document(metadata={}, page_content='Machine learning is a branch of artificial intelligence that enables systems to learn and make'),\n",
       " Document(metadata={}, page_content='decisions without being explicitly programmed. It involves the use of algorithms and statistical'),\n",
       " Document(metadata={}, page_content='models to identify patterns in data. Common'),\n",
       " Document(metadata={}, page_content='applications include image recognition, natural language processing, and predictive analytics.'),\n",
       " Document(metadata={}, page_content=\"World War II was a global conflict that lasted from 1939 to 1945. It involved most of the world's\"),\n",
       " Document(metadata={}, page_content='nations and was marked by significant events such as the Holocaust, the atomic bombings of'),\n",
       " Document(metadata={}, page_content='Hiroshima and Nagasaki, and the D-Day invasion.'),\n",
       " Document(metadata={}, page_content='The war ended with the Allied victory and the establishment of the United Nations.\\nHi this is Joe'),\n",
       " Document(metadata={}, page_content='## Sub-heading-2'),\n",
       " Document(metadata={}, page_content='Climate change refers to long-term changes in temperature, precipitation, and other atmospheric'),\n",
       " Document(metadata={}, page_content='conditions on Earth. It is primarily driven by human activities, such as burning fossil fuels and'),\n",
       " Document(metadata={}, page_content='deforestation. The effects of climate change include'),\n",
       " Document(metadata={}, page_content='rising sea levels, extreme weather events, and loss of biodiversity.'),\n",
       " Document(metadata={}, page_content='# Heading-2'),\n",
       " Document(metadata={}, page_content='Python is a high-level, interpreted programming language known for its readability and simplicity.'),\n",
       " Document(metadata={}, page_content='It supports multiple programming paradigms, including procedural, object-oriented, and functional'),\n",
       " Document(metadata={}, page_content='programming. Popular libraries include NumPy,'),\n",
       " Document(metadata={}, page_content='pandas, and TensorFlow, making Python widely used in data science and machine learning.')]"
      ]
     },
     "execution_count": 10,
     "metadata": {},
     "output_type": "execute_result"
    }
   ],
   "source": [
    "from langchain.text_splitter import MarkdownTextSplitter\n",
    "\n",
    "splitter = MarkdownTextSplitter(chunk_size = 100, chunk_overlap=0) \n",
    "\n",
    "splitter.create_documents([markdown_text])"
   ]
  },
  {
   "cell_type": "markdown",
   "metadata": {},
   "source": [
    "#### **MarkdownHeaderTextSplitter**"
   ]
  },
  {
   "cell_type": "code",
   "execution_count": 11,
   "metadata": {},
   "outputs": [],
   "source": [
    "from langchain.text_splitter import MarkdownHeaderTextSplitter\n",
    "\n",
    "headers_to_split_on = [\n",
    "    (\"#\", \"H1\"),\n",
    "    (\"##\", \"H2\"),\n",
    "    (\"###\", \"H3\"),\n",
    "]\n",
    "\n",
    "markdown_splitter = MarkdownHeaderTextSplitter(headers_to_split_on, strip_headers=False)"
   ]
  },
  {
   "cell_type": "code",
   "execution_count": 12,
   "metadata": {},
   "outputs": [
    {
     "data": {
      "text/plain": [
       "[Document(metadata={'H1': 'Heading-1'}, page_content='# Heading-1\\nThis is some intro to heading'),\n",
       " Document(metadata={'H1': 'Heading-1', 'H2': 'Sub-heading-1'}, page_content=\"## Sub-heading-1\\nMachine learning is a branch of artificial intelligence that enables systems to learn and make decisions without being explicitly programmed. It involves the use of algorithms and statistical models to identify patterns in data. Common\\napplications include image recognition, natural language processing, and predictive analytics.  \\nWorld War II was a global conflict that lasted from 1939 to 1945. It involved most of the world's nations and was marked by significant events such as the Holocaust, the atomic bombings of Hiroshima and Nagasaki, and the D-Day invasion.\\nThe war ended with the Allied victory and the establishment of the United Nations.\\nHi this is Joe\"),\n",
       " Document(metadata={'H1': 'Heading-1', 'H2': 'Sub-heading-2'}, page_content='## Sub-heading-2\\nClimate change refers to long-term changes in temperature, precipitation, and other atmospheric conditions on Earth. It is primarily driven by human activities, such as burning fossil fuels and deforestation. The effects of climate change include\\nrising sea levels, extreme weather events, and loss of biodiversity.'),\n",
       " Document(metadata={'H1': 'Heading-2'}, page_content='# Heading-2\\nPython is a high-level, interpreted programming language known for its readability and simplicity. It supports multiple programming paradigms, including procedural, object-oriented, and functional programming. Popular libraries include NumPy,\\npandas, and TensorFlow, making Python widely used in data science and machine learning.')]"
      ]
     },
     "execution_count": 12,
     "metadata": {},
     "output_type": "execute_result"
    }
   ],
   "source": [
    "md_header_splits = markdown_splitter.split_text(markdown_text)\n",
    "md_header_splits"
   ]
  },
  {
   "cell_type": "markdown",
   "metadata": {},
   "source": [
    "#### **How to constrain chunk size:**\n",
    "\n",
    "Within each markdown group we can then apply any text splitter we want, such as RecursiveCharacterTextSplitter, which allows for further control of the chunk size."
   ]
  },
  {
   "cell_type": "code",
   "execution_count": 13,
   "metadata": {},
   "outputs": [
    {
     "data": {
      "text/plain": [
       "[Document(metadata={'H1': 'Heading-1'}, page_content='# Heading-1\\nThis is some intro to heading'),\n",
       " Document(metadata={'H1': 'Heading-1', 'H2': 'Sub-heading-1'}, page_content='## Sub-heading-1'),\n",
       " Document(metadata={'H1': 'Heading-1', 'H2': 'Sub-heading-1'}, page_content='Machine learning is a branch of artificial intelligence that enables systems to learn and make'),\n",
       " Document(metadata={'H1': 'Heading-1', 'H2': 'Sub-heading-1'}, page_content='to learn and make decisions without being explicitly programmed. It involves the use of algorithms'),\n",
       " Document(metadata={'H1': 'Heading-1', 'H2': 'Sub-heading-1'}, page_content='use of algorithms and statistical models to identify patterns in data. Common'),\n",
       " Document(metadata={'H1': 'Heading-1', 'H2': 'Sub-heading-1'}, page_content='applications include image recognition, natural language processing, and predictive analytics.'),\n",
       " Document(metadata={'H1': 'Heading-1', 'H2': 'Sub-heading-1'}, page_content=\"World War II was a global conflict that lasted from 1939 to 1945. It involved most of the world's\"),\n",
       " Document(metadata={'H1': 'Heading-1', 'H2': 'Sub-heading-1'}, page_content=\"most of the world's nations and was marked by significant events such as the Holocaust, the atomic\"),\n",
       " Document(metadata={'H1': 'Heading-1', 'H2': 'Sub-heading-1'}, page_content='the atomic bombings of Hiroshima and Nagasaki, and the D-Day invasion.'),\n",
       " Document(metadata={'H1': 'Heading-1', 'H2': 'Sub-heading-1'}, page_content='The war ended with the Allied victory and the establishment of the United Nations.\\nHi this is Joe'),\n",
       " Document(metadata={'H1': 'Heading-1', 'H2': 'Sub-heading-2'}, page_content='## Sub-heading-2'),\n",
       " Document(metadata={'H1': 'Heading-1', 'H2': 'Sub-heading-2'}, page_content='Climate change refers to long-term changes in temperature, precipitation, and other atmospheric'),\n",
       " Document(metadata={'H1': 'Heading-1', 'H2': 'Sub-heading-2'}, page_content='other atmospheric conditions on Earth. It is primarily driven by human activities, such as burning'),\n",
       " Document(metadata={'H1': 'Heading-1', 'H2': 'Sub-heading-2'}, page_content='such as burning fossil fuels and deforestation. The effects of climate change include'),\n",
       " Document(metadata={'H1': 'Heading-1', 'H2': 'Sub-heading-2'}, page_content='rising sea levels, extreme weather events, and loss of biodiversity.'),\n",
       " Document(metadata={'H1': 'Heading-2'}, page_content='# Heading-2'),\n",
       " Document(metadata={'H1': 'Heading-2'}, page_content='Python is a high-level, interpreted programming language known for its readability and simplicity.'),\n",
       " Document(metadata={'H1': 'Heading-2'}, page_content='and simplicity. It supports multiple programming paradigms, including procedural, object-oriented,'),\n",
       " Document(metadata={'H1': 'Heading-2'}, page_content='object-oriented, and functional programming. Popular libraries include NumPy,'),\n",
       " Document(metadata={'H1': 'Heading-2'}, page_content='pandas, and TensorFlow, making Python widely used in data science and machine learning.')]"
      ]
     },
     "execution_count": 13,
     "metadata": {},
     "output_type": "execute_result"
    }
   ],
   "source": [
    "from langchain.text_splitter import RecursiveCharacterTextSplitter\n",
    "\n",
    "recursive_text_splitter = RecursiveCharacterTextSplitter(chunk_size=100, chunk_overlap=20)\n",
    "\n",
    "# Split\n",
    "splits = recursive_text_splitter.split_documents(md_header_splits)\n",
    "splits"
   ]
  },
  {
   "cell_type": "markdown",
   "metadata": {},
   "source": [
    "#### **Pros:**  \n",
    "\n",
    "- **Preserves Complete Context** – Keeps the full document intact, ensuring no loss of meaning or disruption in flow.  \n",
    "- **Best for Highly Structured Texts** – Well-suited for documents with strict formatting, such as legal agreements or medical records.  \n",
    "- **Simple to Implement** – Requires no complex splitting logic, making it easy to apply.  \n",
    "\n",
    "#### **Cons:**  \n",
    "\n",
    "- **Not Scalable for Large Texts** – Struggles with lengthy documents that exceed model token limits or memory capacity.  \n",
    "- **Resource-Intensive** – Processing entire documents at once can be inefficient and computationally expensive.  \n",
    "- **Lacks Precision** – Retrieving specific sections or details can be more challenging."
   ]
  },
  {
   "cell_type": "markdown",
   "metadata": {},
   "source": [
    "### **4. Semantic Chunking**\n",
    "\n",
    "Semantic chunking breaks text into chunks based on meaning rather than fixed sizes. It ensures that each chunk contains coherent and relevant information by analyzing shifts in the text’s semantic structure. This is typically done by measuring differences in sentence embeddings, which represent the meaning of sentences mathematically. "
   ]
  },
  {
   "cell_type": "code",
   "execution_count": 14,
   "metadata": {},
   "outputs": [
    {
     "data": {
      "application/vnd.jupyter.widget-view+json": {
       "model_id": "47d16e36754e49ef86d623aaae484884",
       "version_major": 2,
       "version_minor": 0
      },
      "text/plain": [
       "modules.json:   0%|          | 0.00/349 [00:00<?, ?B/s]"
      ]
     },
     "metadata": {},
     "output_type": "display_data"
    },
    {
     "data": {
      "application/vnd.jupyter.widget-view+json": {
       "model_id": "be04eae2203c4f53a8121dcb6c874f94",
       "version_major": 2,
       "version_minor": 0
      },
      "text/plain": [
       "config_sentence_transformers.json:   0%|          | 0.00/124 [00:00<?, ?B/s]"
      ]
     },
     "metadata": {},
     "output_type": "display_data"
    },
    {
     "data": {
      "application/vnd.jupyter.widget-view+json": {
       "model_id": "6680bdbe9f93449db549c3020d0e0ca1",
       "version_major": 2,
       "version_minor": 0
      },
      "text/plain": [
       "README.md: 0.00B [00:00, ?B/s]"
      ]
     },
     "metadata": {},
     "output_type": "display_data"
    },
    {
     "data": {
      "application/vnd.jupyter.widget-view+json": {
       "model_id": "83f7e8c14ecd48168164cb5fdbf4eaf1",
       "version_major": 2,
       "version_minor": 0
      },
      "text/plain": [
       "sentence_bert_config.json:   0%|          | 0.00/52.0 [00:00<?, ?B/s]"
      ]
     },
     "metadata": {},
     "output_type": "display_data"
    },
    {
     "data": {
      "application/vnd.jupyter.widget-view+json": {
       "model_id": "c12da574fc5f46f39010026b34944e4c",
       "version_major": 2,
       "version_minor": 0
      },
      "text/plain": [
       "config.json:   0%|          | 0.00/743 [00:00<?, ?B/s]"
      ]
     },
     "metadata": {},
     "output_type": "display_data"
    },
    {
     "data": {
      "application/vnd.jupyter.widget-view+json": {
       "model_id": "bf00037f210f47c38becc8f84dac0d7a",
       "version_major": 2,
       "version_minor": 0
      },
      "text/plain": [
       "model.safetensors:   0%|          | 0.00/133M [00:00<?, ?B/s]"
      ]
     },
     "metadata": {},
     "output_type": "display_data"
    },
    {
     "data": {
      "application/vnd.jupyter.widget-view+json": {
       "model_id": "a5c67229b8ea418583a99e7c2c78eb9a",
       "version_major": 2,
       "version_minor": 0
      },
      "text/plain": [
       "tokenizer_config.json:   0%|          | 0.00/366 [00:00<?, ?B/s]"
      ]
     },
     "metadata": {},
     "output_type": "display_data"
    },
    {
     "data": {
      "application/vnd.jupyter.widget-view+json": {
       "model_id": "3f8216b4588d49289715ddf6108a43f7",
       "version_major": 2,
       "version_minor": 0
      },
      "text/plain": [
       "vocab.txt: 0.00B [00:00, ?B/s]"
      ]
     },
     "metadata": {},
     "output_type": "display_data"
    },
    {
     "data": {
      "application/vnd.jupyter.widget-view+json": {
       "model_id": "ac1b641a579f47f7b81cb49e2fec6c50",
       "version_major": 2,
       "version_minor": 0
      },
      "text/plain": [
       "tokenizer.json: 0.00B [00:00, ?B/s]"
      ]
     },
     "metadata": {},
     "output_type": "display_data"
    },
    {
     "data": {
      "application/vnd.jupyter.widget-view+json": {
       "model_id": "04e62a22a1ac46d5b5e5448e94313dbb",
       "version_major": 2,
       "version_minor": 0
      },
      "text/plain": [
       "special_tokens_map.json:   0%|          | 0.00/125 [00:00<?, ?B/s]"
      ]
     },
     "metadata": {},
     "output_type": "display_data"
    },
    {
     "data": {
      "application/vnd.jupyter.widget-view+json": {
       "model_id": "6f63046dd606444f8f7e8c1d9473b358",
       "version_major": 2,
       "version_minor": 0
      },
      "text/plain": [
       "config.json:   0%|          | 0.00/190 [00:00<?, ?B/s]"
      ]
     },
     "metadata": {},
     "output_type": "display_data"
    }
   ],
   "source": [
    "from llama_index.embeddings.huggingface import HuggingFaceEmbedding\n",
    "from llama_index.core import SimpleDirectoryReader\n",
    "from llama_index.core.node_parser import SemanticSplitterNodeParser\n",
    "\n",
    "embed_model = HuggingFaceEmbedding(model_name=\"BAAI/bge-small-en-v1.5\")\n",
    "\n",
    "splitter = SemanticSplitterNodeParser(\n",
    "    buffer_size=3,\n",
    "    breakpoint_percentile_threshold=70,\n",
    "    embed_model=embed_model\n",
    ")"
   ]
  },
  {
   "cell_type": "code",
   "execution_count": 15,
   "metadata": {},
   "outputs": [
    {
     "name": "stdout",
     "output_type": "stream",
     "text": [
      "\n",
      "CHUNK-1: The American Revolution (1765–1783) was an ideological and political movement in the Thirteen Colonies which peaked when colonists initiated the ultimately successful war for independence (the American Revolutionary War) against the Kingdom of Great Britain. Leaders of the American Revolution were colonial separatist leaders who originally sought more autonomy as British subjects, but later assembled to support the Revolutionary War, which ended British colonial rule over the colonies, establishing their independence as the United States of America in July 1776.\n",
      "\n",
      "Discontent with colonial rule began shortly after the defeat of France in the French and Indian War in 1763. Although the colonies had fought and supported the war, Parliament imposed new taxes to compensate for wartime costs and turned control of the colonies' western lands over to the British officials in Montreal. \n",
      "\n",
      "CHUNK-2: Representatives from several colonies convened the Stamp Act Congress; its \"Declaration of Rights and Grievances\" argued that taxation without representation violated their rights as Englishmen. \n",
      "\n",
      "CHUNK-3: In 1767, tensions flared again following the British Parliament's passage of the Townshend Acts. \n",
      "\n",
      "CHUNK-4: In an effort to quell the mounting rebellion, King George III deployed troops to Boston. A local confrontation resulted in the troops killing protesters in the Boston Massacre on March 5, 1770. \n",
      "\n",
      "CHUNK-5: In 1772, anti-tax demonstrators in Rhode Island destroyed the Royal Navy customs schooner Gaspee. On December 16, 1773, activists disguised as Indians instigated the Boston Tea Party and dumped chests of tea owned by the British East India Company into Boston Harbor. London closed Boston Harbor and enacted a series of punitive laws, which effectively ended self-government in Massachusetts.\n",
      "\n",
      "In late 1774, 12 of the Thirteen Colonies (Georgia joined in 1775) sent delegates to the First Continental Congress in Philadelphia. It began coordinating Patriot resistance through underground networks of committees. \n",
      "\n",
      "CHUNK-6: In April 1775, British forces attempted to disarm local militias around Boston and engaged them. On June 14, 1775, the Second Continental Congress responded by authorizing formation of the Continental Army and appointing George Washington as its commander-in-chief. \n",
      "\n",
      "CHUNK-7: In August, the king proclaimed Massachusetts to be in a state of open defiance and rebellion. The Continental Army surrounded Boston, and the British withdrew by sea in March 1776, leaving the Patriots in control in every colony. In July 1776, the Second Continental Congress began to take on the role of governing a new nation. \n",
      "\n",
      "CHUNK-8: It passed the Lee Resolution for national independence on July 2, and on July 4, 1776, unanimously adopted the Declaration of Independence, which embodied the political philosophies of liberalism and republicanism, rejected monarchy and aristocracy, and famously proclaimed that \"all men are created equal\".\n",
      "\n",
      "The fighting, now known as the Revolutionary War, continued for five years. During this time, the kingdom of France entered as an ally of the United States. The decisive victory came in the fall of 1781, when the combined American and French armies captured an entire British army in the Siege of Yorktown. \n",
      "\n",
      "CHUNK-9: The defeat led to the collapse of King George's control of Parliament, with a majority now in favor of ending the war on American terms. On September 3, 1783, the British signed the Treaty of Paris, granting the United States nearly all the territory east of the Mississippi River and south of the Great Lakes. About 60,000 Loyalists migrated to other British territories in Canada and elsewhere, but the great majority remained in the United States. With its victory in the American Revolution, the United States became the first constitutional republic in world history founded on the consent of the governed and the rule of law. \n"
     ]
    }
   ],
   "source": [
    "documents = SimpleDirectoryReader(input_files=[\"./sample_text.txt\"]).load_data()\n",
    "nodes = splitter.get_nodes_from_documents(documents)\n",
    "\n",
    "for i, node in enumerate(nodes, 1):\n",
    "    print(f\"\\nCHUNK-{i}: {node.text}\")"
   ]
  },
  {
   "cell_type": "markdown",
   "metadata": {},
   "source": [
    "#### **Pros:**  \n",
    "\n",
    "- **Maintains Contextual Integrity** – Splits content at natural breaks, ensuring each chunk remains meaningful and self-contained.  \n",
    "- **Versatile Across Diverse Content Types** – Adapts well to structured documents like research papers and technical manuals, preserving logical divisions.  \n",
    "- **Enhances Search Relevance** – By keeping semantic coherence, it improves accuracy in information retrieval and query matching.  \n",
    "\n",
    "#### **Cons:**  \n",
    "\n",
    "- **Complex Implementation** – Requires sophisticated methods to detect semantic shifts and determine optimal split points.  \n",
    "- **Higher Processing Overhead** – Analyzing contextual differences can be computationally demanding, especially for long texts.  \n",
    "- **Sensitive to Parameter Tuning** – The effectiveness of chunking depends on carefully adjusting thresholds, which may vary across domains.  \n"
   ]
  },
  {
   "cell_type": "markdown",
   "metadata": {},
   "source": [
    "#### **Using semChunk library**"
   ]
  },
  {
   "cell_type": "code",
   "execution_count": 16,
   "metadata": {},
   "outputs": [
    {
     "name": "stdout",
     "output_type": "stream",
     "text": [
      "\n",
      "CHUNK-1: The American Revolution (1765–1783) was an ideological and political movement in the Thirteen Colonies which peaked when colonists initiated the ultimately successful war for independence (the American Revolutionary War) against the Kingdom of Great Britain. Leaders of the American Revolution were colonial separatist leaders who originally sought more autonomy as British subjects, but later assembled to support the Revolutionary War, which ended British colonial rule over the colonies, establishing their independence as the United States of America in July 1776.\n",
      "\n",
      "CHUNK-2: Discontent with colonial rule began shortly after the defeat of France in the French and Indian War in 1763. Although the colonies had fought and supported the war, Parliament imposed new taxes to compensate for wartime costs and turned control of the colonies' western lands over to the British officials in Montreal. Representatives from several colonies convened the Stamp Act Congress; its \"Declaration of Rights and Grievances\" argued that taxation without representation violated their rights as Englishmen. In 1767, tensions flared again following the British Parliament's passage of the Townshend Acts. In an effort to quell the mounting rebellion, King George III deployed troops to Boston. A local confrontation resulted in the troops killing protesters in the Boston Massacre on March 5, 1770. In 1772, anti-tax demonstrators in Rhode Island destroyed the Royal Navy customs schooner Gaspee. On December 16, 1773, activists disguised as Indians instigated the Boston Tea Party and dumped chests of tea owned by the British East India Company into Boston Harbor. London closed Boston Harbor and enacted a series of punitive laws, which effectively ended self-government in Massachusetts.\n",
      "\n",
      "CHUNK-3: In late 1774, 12 of the Thirteen Colonies (Georgia joined in 1775) sent delegates to the First Continental Congress in Philadelphia. It began coordinating Patriot resistance through underground networks of committees. In April 1775, British forces attempted to disarm local militias around Boston and engaged them. On June 14, 1775, the Second Continental Congress responded by authorizing formation of the Continental Army and appointing George Washington as its commander-in-chief. In August, the king proclaimed Massachusetts to be in a state of open defiance and rebellion. The Continental Army surrounded Boston, and the British withdrew by sea in March 1776, leaving the Patriots in control in every colony. In July 1776, the Second Continental Congress began to take on the role of governing a new nation. It passed the Lee Resolution for national independence on July 2, and on July 4, 1776, unanimously adopted the Declaration of Independence, which embodied the political philosophies of liberalism and republicanism, rejected monarchy and aristocracy, and famously proclaimed that \"all men are created equal\".\n",
      "\n",
      "CHUNK-4: The fighting, now known as the Revolutionary War, continued for five years. During this time, the kingdom of France entered as an ally of the United States. The decisive victory came in the fall of 1781, when the combined American and French armies captured an entire British army in the Siege of Yorktown. The defeat led to the collapse of King George's control of Parliament, with a majority now in favor of ending the war on American terms. On September 3, 1783, the British signed the Treaty of Paris, granting the United States nearly all the territory east of the Mississippi River and south of the Great Lakes. About 60,000 Loyalists migrated to other British territories in Canada and elsewhere, but the great majority remained in the United States. With its victory in the American Revolution, the United States became the first constitutional republic in world history founded on the consent of the governed and the rule of law.\n",
      "\n"
     ]
    }
   ],
   "source": [
    "import semchunk\n",
    "\n",
    "chunk_size = 300\n",
    "chunker = semchunk.chunkerify('gpt-4', chunk_size) \n",
    "\n",
    "#   Alternatives to use:\n",
    "#          semchunk.chunkerify('cl100k_base', chunk_size) or \\\n",
    "#          semchunk.chunkerify(AutoTokenizer.from_pretrained('umarbutler/emubert'), chunk_size) or \\\n",
    "#          semchunk.chunkerify(tiktoken.encoding_for_model('gpt-4'), chunk_size) or \\\n",
    "#          semchunk.chunkerify(lambda text: len(text.split()), chunk_size)\n",
    "\n",
    "# You can also pass a `offsets` argument to return the offsets of chunks, as well as an `overlap`\n",
    "# argument to overlap chunks by a ratio (if < 1) or an absolute number of tokens (if >= 1).\n",
    "chunks, offsets = chunker(document, offsets = True, overlap=0)\n",
    "\n",
    "for i, chunk in enumerate(chunks, 1):\n",
    "    print(f\"\\nCHUNK-{i}: {chunk}\")"
   ]
  },
  {
   "cell_type": "markdown",
   "metadata": {},
   "source": [
    "#### **Using Chonkie library**"
   ]
  },
  {
   "cell_type": "code",
   "execution_count": 17,
   "metadata": {},
   "outputs": [
    {
     "data": {
      "application/vnd.jupyter.widget-view+json": {
       "model_id": "8aee46aa7d2e451ea6ba6d6e1799b8c8",
       "version_major": 2,
       "version_minor": 0
      },
      "text/plain": [
       "model.safetensors:   0%|          | 0.00/30.2M [00:00<?, ?B/s]"
      ]
     },
     "metadata": {},
     "output_type": "display_data"
    },
    {
     "data": {
      "application/vnd.jupyter.widget-view+json": {
       "model_id": "9346ffafa5ac44769739fb0d3daf5e80",
       "version_major": 2,
       "version_minor": 0
      },
      "text/plain": [
       "README.md: 0.00B [00:00, ?B/s]"
      ]
     },
     "metadata": {},
     "output_type": "display_data"
    },
    {
     "data": {
      "application/vnd.jupyter.widget-view+json": {
       "model_id": "7be869d850084dab984ffee4221a7b3c",
       "version_major": 2,
       "version_minor": 0
      },
      "text/plain": [
       "config.json:   0%|          | 0.00/202 [00:00<?, ?B/s]"
      ]
     },
     "metadata": {},
     "output_type": "display_data"
    },
    {
     "data": {
      "application/vnd.jupyter.widget-view+json": {
       "model_id": "5b3baa87651044bbb8e731ad4e5ed75f",
       "version_major": 2,
       "version_minor": 0
      },
      "text/plain": [
       "tokenizer.json: 0.00B [00:00, ?B/s]"
      ]
     },
     "metadata": {},
     "output_type": "display_data"
    }
   ],
   "source": [
    "from chonkie import SemanticChunker\n",
    "\n",
    "chunker = SemanticChunker(\n",
    "    embedding_model=\"minishlab/potion-base-8M\",  # Default model\n",
    "    threshold=0.5,                               # Similarity threshold (0-1) or (1-100) or \"auto\"\n",
    "    chunk_size=300,                              # Maximum tokens per chunk\n",
    "    min_sentences=1                              # Initial sentences per chunk\n",
    ")"
   ]
  },
  {
   "cell_type": "code",
   "execution_count": 18,
   "metadata": {},
   "outputs": [
    {
     "name": "stdout",
     "output_type": "stream",
     "text": [
      "\n",
      "CHUNK-1: The American Revolution (1765–1783) was an ideological and political movement in the Thirteen Colonies which peaked when colonists initiated the ultimately successful war for independence (the American Revolutionary War) against the Kingdom of Great Britain. Leaders of the American Revolution were colonial separatist leaders who originally sought more autonomy as British subjects, but later assembled to support the Revolutionary War, which ended British colonial rule over the colonies, establishing their independence as the United States of America in July 1776.\n",
      "\n",
      "Discontent with colonial rule began shortly after the defeat of France in the French and Indian War in 1763. Although the colonies had fought and supported the war, Parliament imposed new taxes to compensate for wartime costs and turned control of the colonies' western lands over to the British officials in Montreal. Representatives from several colonies convened the Stamp Act Congress; its \"Declaration of Rights and Grievances\" argued that taxation without representation violated their rights as Englishmen. In 1767, tensions flared again following the British Parliament's passage of the Townshend Acts. In an effort to quell the mounting rebellion, King George III deployed troops to Boston. A local confrontation resulted in the troops killing protesters in the Boston Massacre on March 5, 1770. In 1772, anti-tax demonstrators in Rhode Island destroyed the Royal Navy customs schooner Gaspee. On December 16, 1773, activists disguised as Indians instigated the Boston Tea Party and dumped chests of tea owned by the British East India Company into Boston Harbor.\n",
      "\n",
      "CHUNK-2:  London closed Boston Harbor and enacted a series of punitive laws, which effectively ended self-government in Massachusetts.\n",
      "\n",
      "In late 1774, 12 of the Thirteen Colonies (Georgia joined in 1775) sent delegates to the First Continental Congress in Philadelphia. It began coordinating Patriot resistance through underground networks of committees. In April 1775, British forces attempted to disarm local militias around Boston and engaged them. On June 14, 1775, the Second Continental Congress responded by authorizing formation of the Continental Army and appointing George Washington as its commander-in-chief. In August, the king proclaimed Massachusetts to be in a state of open defiance and rebellion. The Continental Army surrounded Boston, and the British withdrew by sea in March 1776, leaving the Patriots in control in every colony. In July 1776, the Second Continental Congress began to take on the role of governing a new nation. It passed the Lee Resolution for national independence on July 2, and on July 4, 1776, unanimously adopted the Declaration of Independence, which embodied the political philosophies of liberalism and republicanism, rejected monarchy and aristocracy, and famously proclaimed that \"all men are created equal\".\n",
      "\n",
      "The fighting, now known as the Revolutionary War, continued for five years. During this time, the kingdom of France entered as an ally of the United States. The decisive victory came in the fall of 1781, when the combined American and French armies captured an entire British army in the Siege of Yorktown.\n",
      "\n",
      "CHUNK-3:  The defeat led to the collapse of King George's control of Parliament, with a majority now in favor of ending the war on American terms. On September 3, 1783, the British signed the Treaty of Paris, granting the United States nearly all the territory east of the Mississippi River and south of the Great Lakes. About 60,000 Loyalists migrated to other British territories in Canada and elsewhere, but the great majority remained in the United States.\n"
     ]
    }
   ],
   "source": [
    "# Chunk the text\n",
    "chunks = chunker(document)\n",
    "\n",
    "for i, chunk in enumerate(chunks, 1):\n",
    "    print(f\"\\nCHUNK-{i}: {chunk.text}\")"
   ]
  },
  {
   "cell_type": "markdown",
   "metadata": {},
   "source": [
    "### **5. Token-Based Chunking**\n",
    "\n",
    "Token-based chunking splits text based on a predefined number of tokens (words or subwords) rather than characters or sentences. Tokens are the smallest meaningful units of text, and the chunk size is controlled by a set token limit.\n",
    "\n",
    "It is useful when working with language models."
   ]
  },
  {
   "cell_type": "code",
   "execution_count": 19,
   "metadata": {},
   "outputs": [],
   "source": [
    "from langchain.text_splitter import TokenTextSplitter\n",
    "\n",
    "token_text_splitter = TokenTextSplitter(chunk_size=300, chunk_overlap=0)"
   ]
  },
  {
   "cell_type": "code",
   "execution_count": 20,
   "metadata": {},
   "outputs": [
    {
     "data": {
      "text/plain": [
       "[Document(metadata={}, page_content='The American Revolution (1765–1783) was an ideological and political movement in the Thirteen Colonies which peaked when colonists initiated the ultimately successful war for independence (the American Revolutionary War) against the Kingdom of Great Britain. Leaders of the American Revolution were colonial separatist leaders who originally sought more autonomy as British subjects, but later assembled to support the Revolutionary War, which ended British colonial rule over the colonies, establishing their independence as the United States of America in July 1776.\\n\\nDiscontent with colonial rule began shortly after the defeat of France in the French and Indian War in 1763. Although the colonies had fought and supported the war, Parliament imposed new taxes to compensate for wartime costs and turned control of the colonies\\' western lands over to the British officials in Montreal. Representatives from several colonies convened the Stamp Act Congress; its \"Declaration of Rights and Grievances\" argued that taxation without representation violated their rights as Englishmen. In 1767, tensions flared again following the British Parliament\\'s passage of the Townshend Acts. In an effort to quell the mounting rebellion, King George III deployed troops to Boston. A local confrontation resulted in the troops killing protesters in the Boston Massacre on March 5, 1770. In 1772, anti-tax demonstrators in Rhode Island destroyed the Royal Navy customs schooner Gaspee. On December 16, 1773, activists disguised as Indians instigated the Boston Tea Party and dumped chests of tea owned by the British East India Company into Boston'),\n",
       " Document(metadata={}, page_content=' Harbor. London closed Boston Harbor and enacted a series of punitive laws, which effectively ended self-government in Massachusetts.\\n\\nIn late 1774, 12 of the Thirteen Colonies (Georgia joined in 1775) sent delegates to the First Continental Congress in Philadelphia. It began coordinating Patriot resistance through underground networks of committees. In April 1775, British forces attempted to disarm local militias around Boston and engaged them. On June 14, 1775, the Second Continental Congress responded by authorizing formation of the Continental Army and appointing George Washington as its commander-in-chief. In August, the king proclaimed Massachusetts to be in a state of open defiance and rebellion. The Continental Army surrounded Boston, and the British withdrew by sea in March 1776, leaving the Patriots in control in every colony. In July 1776, the Second Continental Congress began to take on the role of governing a new nation. It passed the Lee Resolution for national independence on July 2, and on July 4, 1776, unanimously adopted the Declaration of Independence, which embodied the political philosophies of liberalism and republicanism, rejected monarchy and aristocracy, and famously proclaimed that \"all men are created equal\".\\n\\nThe fighting, now known as the Revolutionary War, continued for five years. During this time, the kingdom of France entered as an ally of the United States. The decisive victory came in the fall of 1781, when the combined American and French armies captured an entire British army in the Siege of Yorktown. The defeat led'),\n",
       " Document(metadata={}, page_content=\" to the collapse of King George's control of Parliament, with a majority now in favor of ending the war on American terms. On September 3, 1783, the British signed the Treaty of Paris, granting the United States nearly all the territory east of the Mississippi River and south of the Great Lakes. About 60,000 Loyalists migrated to other British territories in Canada and elsewhere, but the great majority remained in the United States. With its victory in the American Revolution, the United States became the first constitutional republic in world history founded on the consent of the governed and the rule of law.\\n\")]"
      ]
     },
     "execution_count": 20,
     "metadata": {},
     "output_type": "execute_result"
    }
   ],
   "source": [
    "token_text_splitter.create_documents([document])"
   ]
  },
  {
   "cell_type": "markdown",
   "metadata": {},
   "source": [
    "#### **Pros:**  \n",
    "\n",
    "- **Optimized for language Models** – Keeps chunks within token limits, ensuring efficient processing for models like GPT.  \n",
    "- **Fine-Grained Size Control** – Allows precise adjustment of chunk length to align with model constraints.  \n",
    "- **Uniform Processing** – Maintains consistent token counts across documents, making large-scale text handling more manageable.  \n",
    "\n",
    "#### **Cons:**  \n",
    "\n",
    "- **Context fragmentation** – May split sentences or paragraphs in unnatural ways, leading to fragmented information.  \n",
    "- **Ignores Semantic Structure** – Prioritizes token count over meaning, potentially losing key contextual links.  \n",
    "- **Less Adaptive** – Doesn't consider variations in content density or natural text divisions, affecting coherence.  \n"
   ]
  },
  {
   "cell_type": "markdown",
   "metadata": {},
   "source": [
    "### **6. Sentence-Based Chunking**\n",
    "\n",
    "Sentence-based chunking divides text into full sentences, ensuring that each chunk contains complete thoughts. This method helps preserve the logical flow of information, facilitating more precise text analysis and processing."
   ]
  },
  {
   "cell_type": "code",
   "execution_count": 21,
   "metadata": {},
   "outputs": [],
   "source": [
    "from llama_index.core.node_parser import SentenceSplitter\n",
    "from llama_index.core import SimpleDirectoryReader\n",
    "\n",
    "splitter = SentenceSplitter(chunk_size=300, chunk_overlap=0,)"
   ]
  },
  {
   "cell_type": "code",
   "execution_count": 22,
   "metadata": {},
   "outputs": [
    {
     "name": "stdout",
     "output_type": "stream",
     "text": [
      "\n",
      "CHUNK-1: The American Revolution (1765–1783) was an ideological and political movement in the Thirteen Colonies which peaked when colonists initiated the ultimately successful war for independence (the American Revolutionary War) against the Kingdom of Great Britain. Leaders of the American Revolution were colonial separatist leaders who originally sought more autonomy as British subjects, but later assembled to support the Revolutionary War, which ended British colonial rule over the colonies, establishing their independence as the United States of America in July 1776.\n",
      "\n",
      "Discontent with colonial rule began shortly after the defeat of France in the French and Indian War in 1763. Although the colonies had fought and supported the war, Parliament imposed new taxes to compensate for wartime costs and turned control of the colonies' western lands over to the British officials in Montreal. Representatives from several colonies convened the Stamp Act Congress; its \"Declaration of Rights and Grievances\" argued that taxation without representation violated their rights as Englishmen. In 1767, tensions flared again following the British Parliament's passage of the Townshend Acts. In an effort to quell the mounting rebellion, King George III deployed troops to Boston. A local confrontation resulted in the troops killing protesters in the Boston Massacre on March 5, 1770. In 1772, anti-tax demonstrators in Rhode Island destroyed the Royal Navy customs schooner Gaspee.\n",
      "\n",
      "CHUNK-2: On December 16, 1773, activists disguised as Indians instigated the Boston Tea Party and dumped chests of tea owned by the British East India Company into Boston Harbor. London closed Boston Harbor and enacted a series of punitive laws, which effectively ended self-government in Massachusetts.\n",
      "\n",
      "In late 1774, 12 of the Thirteen Colonies (Georgia joined in 1775) sent delegates to the First Continental Congress in Philadelphia. It began coordinating Patriot resistance through underground networks of committees. In April 1775, British forces attempted to disarm local militias around Boston and engaged them. On June 14, 1775, the Second Continental Congress responded by authorizing formation of the Continental Army and appointing George Washington as its commander-in-chief. In August, the king proclaimed Massachusetts to be in a state of open defiance and rebellion. The Continental Army surrounded Boston, and the British withdrew by sea in March 1776, leaving the Patriots in control in every colony. In July 1776, the Second Continental Congress began to take on the role of governing a new nation. It passed the Lee Resolution for national independence on July 2, and on July 4, 1776, unanimously adopted the Declaration of Independence, which embodied the political philosophies of liberalism and republicanism, rejected monarchy and aristocracy, and famously proclaimed that \"all men are created equal\".\n",
      "\n",
      "CHUNK-3: The fighting, now known as the Revolutionary War, continued for five years. During this time, the kingdom of France entered as an ally of the United States. The decisive victory came in the fall of 1781, when the combined American and French armies captured an entire British army in the Siege of Yorktown. The defeat led to the collapse of King George's control of Parliament, with a majority now in favor of ending the war on American terms. On September 3, 1783, the British signed the Treaty of Paris, granting the United States nearly all the territory east of the Mississippi River and south of the Great Lakes. About 60,000 Loyalists migrated to other British territories in Canada and elsewhere, but the great majority remained in the United States. With its victory in the American Revolution, the United States became the first constitutional republic in world history founded on the consent of the governed and the rule of law.\n"
     ]
    }
   ],
   "source": [
    "documents = SimpleDirectoryReader(input_files=[\"./sample_text.txt\"]).load_data()\n",
    "\n",
    "nodes = splitter.get_nodes_from_documents(documents)\n",
    "\n",
    "for i, node in enumerate(nodes, 1):\n",
    "    print(f\"\\nCHUNK-{i}: {node.text}\")"
   ]
  },
  {
   "cell_type": "markdown",
   "metadata": {},
   "source": [
    "#### **Pros:**  \n",
    "\n",
    "- **Maintains Context** – Ensures each chunk contains complete sentences, preserving meaning and logical flow.  \n",
    "- **Improved Readability** – Produces coherent and well-structured chunks, making them easier for both models and users to understand.  \n",
    "- **Natural Splitting** – Divides text at appropriate points, preventing disruption of ideas or incomplete thoughts.  \n",
    "\n",
    "#### **Cons:**  \n",
    "\n",
    "- **Inconsistent Chunk Sizes** – Sentence length variability can lead to uneven chunk distribution, making processing less predictable.  \n",
    "- **Inefficient for Long Sentences** – Long sentences may exceed token limits or carry excessive information within a single chunk.  \n",
    "- **Reduced Control over Chunk Size** – Sentence-based chunking may not always align with fixed token constraints, affecting model efficiency.  \n"
   ]
  },
  {
   "cell_type": "markdown",
   "metadata": {},
   "source": [
    "### **7. Agentic Chunking**\n",
    "\n",
    "It essentially means to instruct an LLM to do the chunking by creating an agent for this task.\n",
    "\n",
    "We will cover an example of using `llama3.1:latest` model for chunking the same text as used above."
   ]
  },
  {
   "cell_type": "code",
   "execution_count": 23,
   "metadata": {},
   "outputs": [
    {
     "name": "stderr",
     "output_type": "stream",
     "text": [
      "/var/folders/06/hz9fr33s3fl0hl8nh58pm9_m0000gn/T/ipykernel_3729/2515426172.py:22: LangChainDeprecationWarning: The class `LLMChain` was deprecated in LangChain 0.1.17 and will be removed in 1.0. Use :meth:`~RunnableSequence, e.g., `prompt | llm`` instead.\n",
      "  chunking_chain = LLMChain(llm=llm, prompt=chunking_prompt)\n"
     ]
    }
   ],
   "source": [
    "from langchain_ollama import OllamaLLM\n",
    "from langchain.chains import LLMChain\n",
    "from langchain.prompts import PromptTemplate\n",
    "\n",
    "# Initialize the Ollama LLM\n",
    "llm = OllamaLLM(model=\"llama3.1:latest\")\n",
    "\n",
    "# Define the prompt for chunking\n",
    "chunking_prompt = PromptTemplate(\n",
    "    input_variables=[\"document\"],\n",
    "    template=\"\"\"\n",
    "    You are an intelligent agent tasked with chunking documents into semantic segments. \n",
    "    Break the following document into meaningful sections, ensuring each chunk represents a cohesive idea:\n",
    "    \n",
    "    {document}\n",
    "    \n",
    "    Return the chunks as a numbered list, without modifying the content.\n",
    "    \"\"\"\n",
    ")\n",
    "\n",
    "# Define the chain for chunking\n",
    "chunking_chain = LLMChain(llm=llm, prompt=chunking_prompt)"
   ]
  },
  {
   "cell_type": "code",
   "execution_count": 26,
   "metadata": {},
   "outputs": [
    {
     "name": "stdout",
     "output_type": "stream",
     "text": [
      "Document Chunks:\n",
      "Here is the document broken down into 8 meaningful sections:\n",
      "\n",
      "1. **The American Revolution: Context and Purpose**\n",
      "The American Revolution (1765–1783) was an ideological and political movement in the Thirteen Colonies which peaked when colonists initiated the ultimately successful war for independence (the American Revolutionary War) against the Kingdom of Great Britain. Leaders of the American Revolution were colonial separatist leaders who originally sought more autonomy as British subjects, but later assembled to support the Revolutionary War, which ended British colonial rule over the colonies, establishing their independence as the United States of America in July 1776.\n",
      "\n",
      "2. **Causes of the American Revolution**\n",
      "Discontent with colonial rule began shortly after the defeat of France in the French and Indian War in 1763. Although the colonies had fought and supported the war, Parliament imposed new taxes to compensate for wartime costs and turned control of the colonies' western lands over to the British officials in Montreal. Representatives from several colonies convened the Stamp Act Congress; its \"Declaration of Rights and Grievances\" argued that taxation without representation violated their rights as Englishmen. In 1767, tensions flared again following the British Parliament's passage of the Townshend Acts. In an effort to quell the mounting rebellion, King George III deployed troops to Boston.\n",
      "\n",
      "3. **Escalating Tensions and Protests**\n",
      "A local confrontation resulted in the troops killing protesters in the Boston Massacre on March 5, 1770. In 1772, anti-tax demonstrators in Rhode Island destroyed the Royal Navy customs schooner Gaspee. On December 16, 1773, activists disguised as Indians instigated the Boston Tea Party and dumped chests of tea owned by the British East India Company into Boston Harbor. London closed Boston Harbor and enacted a series of punitive laws, which effectively ended self-government in Massachusetts.\n",
      "\n",
      "4. **The First Continental Congress**\n",
      "In late 1774, 12 of the Thirteen Colonies (Georgia joined in 1775) sent delegates to the First Continental Congress in Philadelphia. It began coordinating Patriot resistance through underground networks of committees.\n",
      "\n",
      "5. **The Start of the Revolutionary War**\n",
      "In April 1775, British forces attempted to disarm local militias around Boston and engaged them. On June 14, 1775, the Second Continental Congress responded by authorizing formation of the Continental Army and appointing George Washington as its commander-in-chief. In August, the king proclaimed Massachusetts to be in a state of open defiance and rebellion.\n",
      "\n",
      "6. **The Declaration of Independence**\n",
      "In July 1776, the Second Continental Congress began to take on the role of governing a new nation. It passed the Lee Resolution for national independence on July 2, and on July 4, 1776, unanimously adopted the Declaration of Independence, which embodied the political philosophies of liberalism and republicanism, rejected monarchy and aristocracy, and famously proclaimed that \"all men are created equal\".\n",
      "\n",
      "7. **The War Continues**\n",
      "The fighting, now known as the Revolutionary War, continued for five years. During this time, the kingdom of France entered as an ally of the United States. The decisive victory came in the fall of 1781, when the combined American and French armies captured an entire British army in the Siege of Yorktown.\n",
      "\n",
      "8. **The Aftermath of the Revolution**\n",
      "The defeat led to the collapse of King George's control of Parliament, with a majority now in favor of ending the war on American terms. On September 3, 1783, the British signed the Treaty of Paris, granting the United States nearly all the territory east of the Mississippi River and south of the Great Lakes. About 60,000 Loyalists migrated to other British territories in Canada and elsewhere, but the great majority remained in the United States. With its victory in the American Revolution, the United States became the first constitutional republic in world history founded on the consent of the governed and the rule of law.\n"
     ]
    }
   ],
   "source": [
    "# Process the document through the chain\n",
    "chunks = chunking_chain.run(document=document)\n",
    "\n",
    "# Print the resulting chunks\n",
    "print(\"Document Chunks:\")\n",
    "print(chunks)"
   ]
  },
  {
   "cell_type": "markdown",
   "metadata": {},
   "source": [
    "#### **Pros:**  \n",
    "\n",
    "- **Optimized for Specific Tasks** – Structures chunks to align with task requirements, improving AI efficiency and decision-making.  \n",
    "- **Enhanced Focus on Relevant Information** – Ensures the AI processes only necessary data, leading to more precise responses and analysis.  \n",
    "- **Versatile Application** – Adapts well to various tasks like answering questions, summarization, and task-based automation.  \n",
    "\n",
    "#### **Cons:**  \n",
    "\n",
    "- **Requires Detailed Setup** – Defining task-specific chunking rules and agent roles demands careful planning and configuration.  \n",
    "- **Risk of Over-Specialization** – Breaking content into highly specific chunks may overlook broader insights or patterns.  \n",
    "- **Potential Loss of Overall Context** – Chunks tailored to individual tasks might miss connections that are crucial for comprehensive understanding, such as summarization.  "
   ]
  },
  {
   "cell_type": "markdown",
   "metadata": {},
   "source": [
    "### **Chunking Using Docling:**\n",
    "\n",
    "Docling's chunking is rule-based and structure-aware. It parses structured formats like PDF, HTML, Markdown, or Word into a tree of logical elements: paragraphs, headings, lists, tables, etc.\n",
    "\n",
    "***HierarchicalChunker*** implementation uses the document structure information from the DoclingDocument to create one chunk for each individual detected document element\n",
    "\n",
    "***HybridChunker*** applies tokenization-aware refinements on top of document-based hierarchical chunking, to control the chunk size.\n",
    "\n",
    "***Note:*** Use Docling when you’re chunking structured documents (PDFs, Word, academic papers)."
   ]
  },
  {
   "cell_type": "code",
   "execution_count": 25,
   "metadata": {},
   "outputs": [
    {
     "data": {
      "application/vnd.jupyter.widget-view+json": {
       "model_id": "2ac4d912371e47c7afb55776587c2a59",
       "version_major": 2,
       "version_minor": 0
      },
      "text/plain": [
       "Fetching 9 files:   0%|          | 0/9 [00:00<?, ?it/s]"
      ]
     },
     "metadata": {},
     "output_type": "display_data"
    },
    {
     "data": {
      "application/vnd.jupyter.widget-view+json": {
       "model_id": "ff3bb17c6eeb422586c62712a44df7fb",
       "version_major": 2,
       "version_minor": 0
      },
      "text/plain": [
       "tm_config.json: 0.00B [00:00, ?B/s]"
      ]
     },
     "metadata": {},
     "output_type": "display_data"
    },
    {
     "data": {
      "application/vnd.jupyter.widget-view+json": {
       "model_id": "f78250f6cdcf41f6bbc6b3ff3c0727a1",
       "version_major": 2,
       "version_minor": 0
      },
      "text/plain": [
       ".gitignore: 0.00B [00:00, ?B/s]"
      ]
     },
     "metadata": {},
     "output_type": "display_data"
    },
    {
     "data": {
      "application/vnd.jupyter.widget-view+json": {
       "model_id": "fd7c9a47f20d47faa8e5a26d5c433686",
       "version_major": 2,
       "version_minor": 0
      },
      "text/plain": [
       ".gitattributes: 0.00B [00:00, ?B/s]"
      ]
     },
     "metadata": {},
     "output_type": "display_data"
    },
    {
     "data": {
      "application/vnd.jupyter.widget-view+json": {
       "model_id": "6f41a44d7f994fcd97b941db7d5bd529",
       "version_major": 2,
       "version_minor": 0
      },
      "text/plain": [
       "config.json:   0%|          | 0.00/41.0 [00:00<?, ?B/s]"
      ]
     },
     "metadata": {},
     "output_type": "display_data"
    },
    {
     "data": {
      "application/vnd.jupyter.widget-view+json": {
       "model_id": "59f3b1638c4448a4a6a1fa1b319b1fa3",
       "version_major": 2,
       "version_minor": 0
      },
      "text/plain": [
       "README.md: 0.00B [00:00, ?B/s]"
      ]
     },
     "metadata": {},
     "output_type": "display_data"
    },
    {
     "data": {
      "application/vnd.jupyter.widget-view+json": {
       "model_id": "cf0c9e6428f84724a978112a1640b8ff",
       "version_major": 2,
       "version_minor": 0
      },
      "text/plain": [
       "otslp_all_standard_094_clean.check:   0%|          | 0.00/213M [00:00<?, ?B/s]"
      ]
     },
     "metadata": {},
     "output_type": "display_data"
    },
    {
     "data": {
      "application/vnd.jupyter.widget-view+json": {
       "model_id": "ba80977dc8c044209dba765883be8020",
       "version_major": 2,
       "version_minor": 0
      },
      "text/plain": [
       "otslp_all_fast.check:   0%|          | 0.00/146M [00:00<?, ?B/s]"
      ]
     },
     "metadata": {},
     "output_type": "display_data"
    },
    {
     "data": {
      "application/vnd.jupyter.widget-view+json": {
       "model_id": "3d5191b55c14454d87b8ec21ab1fefbc",
       "version_major": 2,
       "version_minor": 0
      },
      "text/plain": [
       "model.pt:   0%|          | 0.00/202M [00:00<?, ?B/s]"
      ]
     },
     "metadata": {},
     "output_type": "display_data"
    },
    {
     "data": {
      "application/vnd.jupyter.widget-view+json": {
       "model_id": "5c95277ce12c4c26b81bbed0d9d8bb60",
       "version_major": 2,
       "version_minor": 0
      },
      "text/plain": [
       "tm_config.json: 0.00B [00:00, ?B/s]"
      ]
     },
     "metadata": {},
     "output_type": "display_data"
    },
    {
     "name": "stderr",
     "output_type": "stream",
     "text": [
      "Downloading detection model, please wait. This may take several minutes depending upon your network connection.\n"
     ]
    },
    {
     "name": "stdout",
     "output_type": "stream",
     "text": [
      "Progress: |██████████████████████████████████████████████████| 100.0% Complete"
     ]
    },
    {
     "name": "stderr",
     "output_type": "stream",
     "text": [
      "Downloading recognition model, please wait. This may take several minutes depending upon your network connection.\n"
     ]
    },
    {
     "name": "stdout",
     "output_type": "stream",
     "text": [
      "Progress: |██████████████████████████████████████████████████| 100.0% Complete"
     ]
    }
   ],
   "source": [
    "from transformers import AutoTokenizer\n",
    "from docling.document_converter import DocumentConverter\n",
    "\n",
    "from docling_core.transforms.chunker.hybrid_chunker import HybridChunker\n",
    "from docling_core.transforms.chunker.tokenizer.huggingface import HuggingFaceTokenizer\n",
    "\n",
    "DOC_SOURCE = \"./AncientIndia.pdf\"\n",
    "doc = DocumentConverter().convert(source=DOC_SOURCE).document\n",
    "\n",
    "EMBED_MODEL_ID = \"sentence-transformers/all-MiniLM-L6-v2\"\n",
    "MAX_TOKENS = 300  \n",
    "\n",
    "tokenizer = HuggingFaceTokenizer(\n",
    "    tokenizer=AutoTokenizer.from_pretrained(EMBED_MODEL_ID),\n",
    "    max_tokens=MAX_TOKENS,  # optional, by default derived from `tokenizer` for HF case\n",
    ")"
   ]
  },
  {
   "cell_type": "code",
   "execution_count": 27,
   "metadata": {},
   "outputs": [],
   "source": [
    "chunker = HybridChunker(\n",
    "    tokenizer=tokenizer,\n",
    "    merge_peers=True,  # optional, defaults to True\n",
    ")\n",
    "chunk_iter = chunker.chunk(dl_doc=doc)\n",
    "chunks = list(chunk_iter)"
   ]
  },
  {
   "cell_type": "code",
   "execution_count": 28,
   "metadata": {},
   "outputs": [
    {
     "name": "stdout",
     "output_type": "stream",
     "text": [
      "=== 0 ===\n",
      "chunk.text (243 tokens):\n",
      "\"The earliest complex society in South Asia was the Indus Valley Civilization (c. 3300-1300 BCE), a Bronze Age culture centered on the Indus River basin (sites at Harappa and Mohenjo-daro in today's Pakistan). It developed advanced urban planning, brick architecture, and trade networks; at its mature phase (c. 26001900 BCE) cities covered over 100 hectares and featured standardized pottery and seals . The civilization declined after c. 1900 BCE, giving way to smaller farming communities. 1 2\\nBy about 1500 BCE, Indo-Aryan (Vedic) culture spread into northern India. The Vedas - the oldest sacred texts of Hinduism - date to this period; they were transmitted orally and only committed to writing by about 1000-500 BCE . The early Vedic society was largely pastoral and tribal; by the late Vedic period (c. 1000500 BCE) it had evolved into settled agriculture, iron use, caste distinctions, and small kingdoms (Mahājanapadas). Religious thought flourished: the Upanishads , composed c. 800-500 BCE, introduced ideas of Brahman (ultimate reality) and ātman (self) that underlie later Hindu philosophy. 3\"\n",
      "chunker.contextualize(chunk) (245 tokens):\n",
      "\"Ancient India\\nThe earliest complex society in South Asia was the Indus Valley Civilization (c. 3300-1300 BCE), a Bronze Age culture centered on the Indus River basin (sites at Harappa and Mohenjo-daro in today's Pakistan). It developed advanced urban planning, brick architecture, and trade networks; at its mature phase (c. 26001900 BCE) cities covered over 100 hectares and featured standardized pottery and seals . The civilization declined after c. 1900 BCE, giving way to smaller farming communities. 1 2\\nBy about 1500 BCE, Indo-Aryan (Vedic) culture spread into northern India. The Vedas - the oldest sacred texts of Hinduism - date to this period; they were transmitted orally and only committed to writing by about 1000-500 BCE . The early Vedic society was largely pastoral and tribal; by the late Vedic period (c. 1000500 BCE) it had evolved into settled agriculture, iron use, caste distinctions, and small kingdoms (Mahājanapadas). Religious thought flourished: the Upanishads , composed c. 800-500 BCE, introduced ideas of Brahman (ultimate reality) and ātman (self) that underlie later Hindu philosophy. 3\"\n",
      "\n",
      "=== 1 ===\n",
      "chunk.text (117 tokens):\n",
      "'Simultaneously, new religions arose in India. Jainism , founded by Mahāvīra (c.599-527 BCE), and Buddhism , founded by Siddhārtha Gautama (the Buddha) in the late 6th century BCE, challenged Vedic ritualism. Both preached nonviolence, asceticism, and liberation from rebirth . Buddhism quickly spread throughout India and beyond under royal patronage. By 500 BCE, north India was divided among republics and monarchies (like Magadha in Bihar) and home to major universities (Takṣaśilā, Nālandā). 4 5'\n",
      "chunker.contextualize(chunk) (119 tokens):\n",
      "'Ancient India\\nSimultaneously, new religions arose in India. Jainism , founded by Mahāvīra (c.599-527 BCE), and Buddhism , founded by Siddhārtha Gautama (the Buddha) in the late 6th century BCE, challenged Vedic ritualism. Both preached nonviolence, asceticism, and liberation from rebirth . Buddhism quickly spread throughout India and beyond under royal patronage. By 500 BCE, north India was divided among republics and monarchies (like Magadha in Bihar) and home to major universities (Takṣaśilā, Nālandā). 4 5'\n",
      "\n",
      "=== 2 ===\n",
      "chunk.text (205 tokens):\n",
      "'In 321 BCE Chandragupta Maurya conquered Magadha (eastern India) and toppled the Nanda dynasty. He founded the Mauryan Empire , unifying most of South Asia under one administration . Under Chandragupta (r.321-c.297 BCE) and his advisers (notably Kautilya, author of the Arthaśāstra), the state built a centralized bureaucracy and standing army. Chandragupta\\'s grandson Āśoka (r. c.269-232 BCE) further consolidated the empire. After a brutal conquest of Kalinga, Ashoka converted to Buddhism and promoted \"dharma\" (ethical duty) by royal decree . He erected stone Edicts of Ashoka (the earliest Indian inscriptions) teaching nonviolence and welfare. Ashoka sponsored Buddhist councils and missions abroad. His reign is often called a high point of moral statecraft; after his death, however, the Mauryan Empire quickly fragmented by c.185 BCE due to revolts and succession struggles. 6 7'\n",
      "chunker.contextualize(chunk) (217 tokens):\n",
      "'Mauryan Empire (c. 321-185 BCE)\\nIn 321 BCE Chandragupta Maurya conquered Magadha (eastern India) and toppled the Nanda dynasty. He founded the Mauryan Empire , unifying most of South Asia under one administration . Under Chandragupta (r.321-c.297 BCE) and his advisers (notably Kautilya, author of the Arthaśāstra), the state built a centralized bureaucracy and standing army. Chandragupta\\'s grandson Āśoka (r. c.269-232 BCE) further consolidated the empire. After a brutal conquest of Kalinga, Ashoka converted to Buddhism and promoted \"dharma\" (ethical duty) by royal decree . He erected stone Edicts of Ashoka (the earliest Indian inscriptions) teaching nonviolence and welfare. Ashoka sponsored Buddhist councils and missions abroad. His reign is often called a high point of moral statecraft; after his death, however, the Mauryan Empire quickly fragmented by c.185 BCE due to revolts and succession struggles. 6 7'\n",
      "\n",
      "=== 3 ===\n",
      "chunk.text (219 tokens):\n",
      "\"After the Mauryas, northern India fractured into many states. In Magadha, the Śuṅga (c.185-73 BCE) and Śaka (c.1st-2nd century CE) dynasties rose. In the northwest, Greco-Bactrian and Indo-Greek kings ruled portions of Punjab and Gandhāra, blending Greek and Indian cultures. The Kushan Empire (c.30-375 CE) in Gandhāra and northern India (founded by the Yüeh-Chih nomads) dominated trade on the Silk Road and patronized Buddhism. In South India, the Śatavāhanas (c.1st century BCE-3rd CE) ruled central India, supporting trade and Buddhism. These centuries saw flourishing trade (including with Rome), growth of city\\n1\\nfairs and ports, and the spread of Mahāyāna Buddhism. Scholastic Sanskrit culture also matured: Hindu epics and scriptures (Mahābhārata, Rāmāyaṇa, Purāṇas) were consolidated, and classical literature (Kalidāsa, Kālidāsa's dramas) appeared by the Gupta era.\"\n",
      "chunker.contextualize(chunk) (230 tokens):\n",
      "\"Successor States (c. 200 BCE-300 CE)\\nAfter the Mauryas, northern India fractured into many states. In Magadha, the Śuṅga (c.185-73 BCE) and Śaka (c.1st-2nd century CE) dynasties rose. In the northwest, Greco-Bactrian and Indo-Greek kings ruled portions of Punjab and Gandhāra, blending Greek and Indian cultures. The Kushan Empire (c.30-375 CE) in Gandhāra and northern India (founded by the Yüeh-Chih nomads) dominated trade on the Silk Road and patronized Buddhism. In South India, the Śatavāhanas (c.1st century BCE-3rd CE) ruled central India, supporting trade and Buddhism. These centuries saw flourishing trade (including with Rome), growth of city\\n1\\nfairs and ports, and the spread of Mahāyāna Buddhism. Scholastic Sanskrit culture also matured: Hindu epics and scriptures (Mahābhārata, Rāmāyaṇa, Purāṇas) were consolidated, and classical literature (Kalidāsa, Kālidāsa's dramas) appeared by the Gupta era.\"\n",
      "\n",
      "=== 4 ===\n",
      "chunk.text (256 tokens):\n",
      "'From about 320 CE, Gupta rulers established a dynasty based at Pāṭaliputra (modern Patna). This period is often called India\\'s \"Golden Age.\" The Guptas held sway over much of northern India through a loose feudal system. Under them, arts, science, and literature flourished: Sanskrit poetry and drama (Kalidāsa), mathematics (the concept of zero and decimal notation by Aryabhaṭṭa), astronomy, and metallurgy advanced. Gupta kings such as Chandra Gupta I and Iśvar Gupta I issued gold coins and built temples, as reflected in 5th-century art (Ajantā Caves paintings, Sūrya temples). Hinduism gained prominence - Gupta monarchs were Hindu - but religious tolerance was the norm; both Buddhism and Jainism continued to be practiced and patronized alongside Hindu temples . The Chinese pilgrim Xuanzang visited India c.630 CE and praised the Gupta realm\\'s wealth and piety. The Guptas\\' reign brought political stability, supported long-distance trade, and fostered a classical culture that became a foundation for later Indian civilization . 8 9 8\\nAfter c.550 CE, the Gupta Empire fragmented under pressure from White Huns invasions and regional rebellions. Northern India entered a period of smaller, regional kingdoms and shifting powers.'\n",
      "chunker.contextualize(chunk) (266 tokens):\n",
      "'Gupta Empire (c. 320-550 CE)\\nFrom about 320 CE, Gupta rulers established a dynasty based at Pāṭaliputra (modern Patna). This period is often called India\\'s \"Golden Age.\" The Guptas held sway over much of northern India through a loose feudal system. Under them, arts, science, and literature flourished: Sanskrit poetry and drama (Kalidāsa), mathematics (the concept of zero and decimal notation by Aryabhaṭṭa), astronomy, and metallurgy advanced. Gupta kings such as Chandra Gupta I and Iśvar Gupta I issued gold coins and built temples, as reflected in 5th-century art (Ajantā Caves paintings, Sūrya temples). Hinduism gained prominence - Gupta monarchs were Hindu - but religious tolerance was the norm; both Buddhism and Jainism continued to be practiced and patronized alongside Hindu temples . The Chinese pilgrim Xuanzang visited India c.630 CE and praised the Gupta realm\\'s wealth and piety. The Guptas\\' reign brought political stability, supported long-distance trade, and fostered a classical culture that became a foundation for later Indian civilization . 8 9 8\\nAfter c.550 CE, the Gupta Empire fragmented under pressure from White Huns invasions and regional rebellions. Northern India entered a period of smaller, regional kingdoms and shifting powers.'\n",
      "\n",
      "=== 5 ===\n",
      "chunk.text (207 tokens):\n",
      "'The centuries after the Guptas saw numerous regional dynasties. In the north, after a brief reunification under Harṣa (r.606-647 CE), who ruled from Kānauj and briefly patronized Buddhism , northern India again split. Multiple kingdoms vied for power: in the east the Pāla Empire (c.750-1174 CE) of Bengal and Bihar was Buddhist; in the west, the Pratihāra dynasty and later Rāṣṭrakūṭa dynasty held sway. In the Deccan and South India, the Chālukya (Cauvery Karnataka) and Pallava (Tamil region) dynasties traded control, while from the 9th to 13th centuries the powerful Chola Empire (Tamilakam) dominated South India, Sri Lanka, and parts of Southeast Asia. During this era Bhakti movements arose: saint-poets in Tamil (Nayanars, Aḻvars) and in northern Hindi/Bengali (Kabīr, Nānak) preached devotion to a single God and social equality. 10'\n",
      "chunker.contextualize(chunk) (218 tokens):\n",
      "'Early Medieval India (c. 600-1200 CE)\\nThe centuries after the Guptas saw numerous regional dynasties. In the north, after a brief reunification under Harṣa (r.606-647 CE), who ruled from Kānauj and briefly patronized Buddhism , northern India again split. Multiple kingdoms vied for power: in the east the Pāla Empire (c.750-1174 CE) of Bengal and Bihar was Buddhist; in the west, the Pratihāra dynasty and later Rāṣṭrakūṭa dynasty held sway. In the Deccan and South India, the Chālukya (Cauvery Karnataka) and Pallava (Tamil region) dynasties traded control, while from the 9th to 13th centuries the powerful Chola Empire (Tamilakam) dominated South India, Sri Lanka, and parts of Southeast Asia. During this era Bhakti movements arose: saint-poets in Tamil (Nayanars, Aḻvars) and in northern Hindi/Bengali (Kabīr, Nānak) preached devotion to a single God and social equality. 10'\n",
      "\n"
     ]
    }
   ],
   "source": [
    "for i, chunk in enumerate(chunks):\n",
    "    print(f\"=== {i} ===\")\n",
    "    txt_tokens = tokenizer.count_tokens(chunk.text)\n",
    "    print(f\"chunk.text ({txt_tokens} tokens):\\n{chunk.text!r}\")\n",
    "\n",
    "    ser_txt = chunker.contextualize(chunk=chunk)\n",
    "    ser_tokens = tokenizer.count_tokens(ser_txt)\n",
    "    print(f\"chunker.contextualize(chunk) ({ser_tokens} tokens):\\n{ser_txt!r}\")\n",
    "\n",
    "    print()\n",
    "    if i==5:\n",
    "        break"
   ]
  },
  {
   "cell_type": "markdown",
   "metadata": {},
   "source": [
    "### **Additional References:**\n",
    "\n",
    "**1. [https://github.com/FullStackRetrieval-com/RetrievalTutorials/-/-/Levels-Of-Text-Splitting/5-Levels-Of-Text-Splitting.ipynb](https://github.com/FullStackRetrieval-com/RetrievalTutorials/blob/main/tutorials/LevelsOfTextSplitting/5_Levels_Of_Text_Splitting.ipynb)**\n",
    "\n",
    "**2. [https://medium.com/@ayoubkirouane3/simple-chunking-strategies-for-rag-applications-part-1-d56903b167c5](https://medium.com/@ayoubkirouane3/simple-chunking-strategies-for-rag-applications-part-1-d56903b167c5)**\n",
    "\n",
    "**3. [https://docs.chonkie.ai/chunkers/overview](https://docs.chonkie.ai/chunkers/overview)**\n",
    "\n",
    "**4. [https://pypi.org/project/semchunk/](https://pypi.org/project/semchunk/)**\n",
    "\n",
    "**5. [https://docling-project.github.io/docling/concepts/chunking/](https://docling-project.github.io/docling/concepts/chunking/)**"
   ]
  }
 ],
 "metadata": {
  "kernelspec": {
   "display_name": ".venv",
   "language": "python",
   "name": "python3"
  },
  "language_info": {
   "codemirror_mode": {
    "name": "ipython",
    "version": 3
   },
   "file_extension": ".py",
   "mimetype": "text/x-python",
   "name": "python",
   "nbconvert_exporter": "python",
   "pygments_lexer": "ipython3",
   "version": "3.12.11"
  }
 },
 "nbformat": 4,
 "nbformat_minor": 2
}
