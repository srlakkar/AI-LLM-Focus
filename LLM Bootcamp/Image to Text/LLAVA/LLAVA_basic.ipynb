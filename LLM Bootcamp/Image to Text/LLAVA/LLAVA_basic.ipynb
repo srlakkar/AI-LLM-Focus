{
 "cells": [
  {
   "cell_type": "code",
   "execution_count": 1,
   "id": "c6b3e38e",
   "metadata": {},
   "outputs": [],
   "source": [
    "import requests\n",
    "from PIL import Image\n",
    "from io import BytesIO\n",
    "import base64\n",
    "import ollama"
   ]
  },
  {
   "cell_type": "code",
   "execution_count": 2,
   "id": "45428ca2",
   "metadata": {},
   "outputs": [],
   "source": [
    "def describe_image(image_url):\n",
    "    # Download the image\n",
    "    response = requests.get(image_url)\n",
    "    image = Image.open(BytesIO(response.content))\n",
    "\n",
    "    # Convert image to base64\n",
    "    buffered = BytesIO()\n",
    "    image.save(buffered, format=\"JPEG\")\n",
    "    img_base64 = base64.b64encode(buffered.getvalue()).decode('utf-8')\n",
    "\n",
    "    # Send request to Ollama with LLaVA model\n",
    "    prompt = \"Describe this image in detail.\"\n",
    "    response = ollama.chat(\n",
    "        model=\"llava:7b\",\n",
    "        messages=[{\n",
    "            'role': 'user',\n",
    "            'content': prompt,\n",
    "            'images': [img_base64]\n",
    "        }]\n",
    "    )\n",
    "\n",
    "    return response['message']['content']"
   ]
  },
  {
   "cell_type": "code",
   "execution_count": 3,
   "id": "55e8fc3a",
   "metadata": {},
   "outputs": [
    {
     "name": "stdout",
     "output_type": "stream",
     "text": [
      "Image description:  The image portrays a vibrant scene of a volcanic eruption. At the heart of the image, an orange lava flow is spewing from a mountain. This mountain, made up of layers of brown and gray rock strata, stands out against the backdrop.\n",
      "\n",
      "Atop the mountain, there's a small building, perhaps a monitoring station or a storage facility for volcanic materials. The lava flow appears to be flowing towards this building, creating a dramatic contrast between the natural elements and man-made structures.\n",
      "\n",
      "A blue streamer runs down from the lava flow, connecting it to a smaller streamer at the bottom right corner of the image. This streamer seems to indicate the direction of the lava flow, adding a layer of complexity to the scene.\n",
      "\n",
      "The sky above is clear and blue, dotted with white clouds that add depth to the image. The overall composition suggests a dynamic and potentially dangerous environment. The precise locations and interactions of these elements create a sense of movement and transformation within the image. \n"
     ]
    }
   ],
   "source": [
    "# Example usage for LLaVA\n",
    "url = \"https://huggingface.co/datasets/huggingface/documentation-images/resolve/main/transformers/tasks/ai2d-demo.jpg\"\n",
    "description = describe_image(url)\n",
    "print(\"Image description:\", description)"
   ]
  },
  {
   "cell_type": "code",
   "execution_count": 4,
   "id": "970ba0e3",
   "metadata": {},
   "outputs": [
    {
     "name": "stdout",
     "output_type": "stream",
     "text": [
      "Image description:  Amidst the earth's crust, where magma stirs and flows,\n",
      "\n",
      "A mountain stands, a testament to nature's glow.\n",
      "Its peak adorned with fiery hues, a sight both ancient and new.\n",
      "The sun, a silent witness to its might, shines brightly in the light.\n",
      "\n",
      "In its shadow, a map unfolds, a guide for those who dare to explore,\n",
      "From numbers one through twelve, a path to follow or ignore.\n",
      "But beware of the paths that twist and turn,\n",
      "For treacherous terrains may deceive the most astute observer, yearn.\n",
      "\n",
      "The mountain's peak, a volcano's crown,\n",
      "A place of power, both feared and renowned.\n",
      "It spews its secrets, a mix of molten fire,\n",
      "To keep the world in awe, to inspire and entire.\n",
      "\n",
      "Though not a monument for man's pride,\n",
      "This mountain stands tall, defying all inside.\n",
      "A natural wonder, a landmark so grand,\n",
      "In this vast expanse, it commands attention and demand. \n"
     ]
    }
   ],
   "source": [
    "def image_to_poem(image_url):\n",
    "    # Download the image\n",
    "    response = requests.get(image_url)\n",
    "    image = Image.open(BytesIO(response.content))\n",
    "\n",
    "    # Convert image to base64\n",
    "    buffered = BytesIO()\n",
    "    image.save(buffered, format=\"JPEG\")\n",
    "    img_base64 = base64.b64encode(buffered.getvalue()).decode('utf-8')\n",
    "\n",
    "    # Send request to Ollama with LLaVA model\n",
    "    prompt = \"Write a poem about this image.\"\n",
    "    response = ollama.chat(\n",
    "        model=\"llava:7b\",\n",
    "        messages=[{\n",
    "            'role': 'user',\n",
    "            'content': prompt,\n",
    "            'images': [img_base64]\n",
    "        }]\n",
    "    )\n",
    "\n",
    "    return response['message']['content']\n",
    "\n",
    "# Example usage for LLaVA\n",
    "url = \"https://huggingface.co/datasets/huggingface/documentation-images/resolve/main/transformers/tasks/ai2d-demo.jpg\"\n",
    "description = image_to_poem(url)\n",
    "print(\"Image description:\", description)"
   ]
  },
  {
   "cell_type": "code",
   "execution_count": 5,
   "id": "7026f2a6",
   "metadata": {},
   "outputs": [
    {
     "name": "stdout",
     "output_type": "stream",
     "text": [
      "Image description:  This is a panoramic photo composed of four separate images, each depicting a scene at the beach with a dog. The central focus is on a light-colored dog sitting on a beach, looking towards its owner who is kneeling beside it and holding onto it. The dog appears to be a Labrador Retriever breed, characterized by its short coat and floppy ears.\n",
      "\n",
      "In the top left image, there's a woman with long hair wearing a black jacket, white pants, and flip-flops. She is sitting on the beach next to her dog, smiling towards it. The time of day appears to be during sunset or sunrise, as the sky transitions from blue to orange hues.\n",
      "\n",
      "In the bottom left image, the same woman with the dog is visible; however, she is now wearing a different outfit consisting of a black jacket and white pants, along with flip-flops. She is still sitting on the beach next to her dog, maintaining eye contact with it. The lighting suggests the image was taken at the same time of day as in the top left image.\n",
      "\n",
      "In the bottom right image, there's another woman wearing a checkered shirt, blue pants, and flip-flops. She is sitting on the beach next to her dog, which is lying down on the sand. The dog is looking towards its owner with an expression of contentment. Similar to the other images, it seems to be taken during sunset or sunrise due to the warm lighting in the sky.\n",
      "\n",
      "The overall style of the image is a collage, showcasing different moments of interaction between humans and dogs at a beach setting. The photo captures the tranquility and bonding nature of pet-human relationships, as well as the joy found in spending time outdoors with pets. \n"
     ]
    }
   ],
   "source": [
    "# Example usage for LLaVA\n",
    "url = \"https://storage.googleapis.com/sfr-vision-language-research/BLIP/demo.jpg\"\n",
    "description = describe_image(url)\n",
    "print(\"Image description:\", description)"
   ]
  },
  {
   "cell_type": "code",
   "execution_count": 6,
   "id": "b63b617a",
   "metadata": {},
   "outputs": [
    {
     "name": "stdout",
     "output_type": "stream",
     "text": [
      "Poem:  In the twilight's gentle glow,\n",
      " above the ocean's tide,\n",
      "A golden dog sits by her side.\n",
      "In the soft sand where the waves recede,\n",
      "They share a moment of tranquility and need.\n",
      "\n",
      "Her hands are full, but her heart is light,\n",
      "As the sun dips low in its flight.\n",
      "Their eyes reflect a joyful sight,\n",
      "A connection formed between daylight and night.\n",
      "\n",
      "In this moment, on the beach so wide,\n",
      "They find peace amidst the tide.\n",
      "It's more than just the simple things they find,\n",
      "But a bond that will forever bind.\n",
      "\n",
      "For the dog, her companion is here,\n",
      "To share in every cheer.\n",
      "And for her, the dog's presence is near,\n",
      "A loyal friend she cherishes dear.\n",
      "\n",
      "As the sky fades to hues of blue,\n",
      "Their story unfolds anew.\n",
      "Not just a picture, but a feeling true,\n",
      "Of love and trust, of joy and renew. \n"
     ]
    }
   ],
   "source": [
    "poem = image_to_poem(url)\n",
    "print(\"Poem:\", poem)"
   ]
  }
 ],
 "metadata": {
  "kernelspec": {
   "display_name": ".venv",
   "language": "python",
   "name": "python3"
  },
  "language_info": {
   "codemirror_mode": {
    "name": "ipython",
    "version": 3
   },
   "file_extension": ".py",
   "mimetype": "text/x-python",
   "name": "python",
   "nbconvert_exporter": "python",
   "pygments_lexer": "ipython3",
   "version": "3.12.11"
  }
 },
 "nbformat": 4,
 "nbformat_minor": 5
}
